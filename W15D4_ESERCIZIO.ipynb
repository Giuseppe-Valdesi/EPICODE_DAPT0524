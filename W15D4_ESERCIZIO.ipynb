{
 "cells": [
  {
   "cell_type": "code",
   "execution_count": 1,
   "id": "92538521-008a-4e41-b9cc-e0dc0d02a7d7",
   "metadata": {},
   "outputs": [
    {
     "data": {
      "text/html": [
       "<div>\n",
       "<style scoped>\n",
       "    .dataframe tbody tr th:only-of-type {\n",
       "        vertical-align: middle;\n",
       "    }\n",
       "\n",
       "    .dataframe tbody tr th {\n",
       "        vertical-align: top;\n",
       "    }\n",
       "\n",
       "    .dataframe thead th {\n",
       "        text-align: right;\n",
       "    }\n",
       "</style>\n",
       "<table border=\"1\" class=\"dataframe\">\n",
       "  <thead>\n",
       "    <tr style=\"text-align: right;\">\n",
       "      <th></th>\n",
       "      <th>ProductKey</th>\n",
       "      <th>ProductAlternateKey</th>\n",
       "      <th>ProductSubcategoryKey</th>\n",
       "      <th>WeightUnitMeasureCode</th>\n",
       "      <th>SizeUnitMeasureCode</th>\n",
       "      <th>EnglishProductName</th>\n",
       "      <th>SpanishProductName</th>\n",
       "      <th>FrenchProductName</th>\n",
       "      <th>StandardCost</th>\n",
       "      <th>FinishedGoodsFlag</th>\n",
       "      <th>...</th>\n",
       "      <th>ChineseDescription</th>\n",
       "      <th>ArabicDescription</th>\n",
       "      <th>HebrewDescription</th>\n",
       "      <th>ThaiDescription</th>\n",
       "      <th>GermanDescription</th>\n",
       "      <th>JapaneseDescription</th>\n",
       "      <th>TurkishDescription</th>\n",
       "      <th>StartDate</th>\n",
       "      <th>EndDate</th>\n",
       "      <th>Status</th>\n",
       "    </tr>\n",
       "  </thead>\n",
       "  <tbody>\n",
       "    <tr>\n",
       "      <th>0</th>\n",
       "      <td>1</td>\n",
       "      <td>AR-5381</td>\n",
       "      <td>NaN</td>\n",
       "      <td>None</td>\n",
       "      <td>None</td>\n",
       "      <td>Adjustable Race</td>\n",
       "      <td></td>\n",
       "      <td></td>\n",
       "      <td>NaN</td>\n",
       "      <td>0</td>\n",
       "      <td>...</td>\n",
       "      <td>None</td>\n",
       "      <td>None</td>\n",
       "      <td>None</td>\n",
       "      <td>None</td>\n",
       "      <td>None</td>\n",
       "      <td>None</td>\n",
       "      <td>None</td>\n",
       "      <td>2003-07-01</td>\n",
       "      <td>NaT</td>\n",
       "      <td>Current</td>\n",
       "    </tr>\n",
       "    <tr>\n",
       "      <th>1</th>\n",
       "      <td>2</td>\n",
       "      <td>BA-8327</td>\n",
       "      <td>NaN</td>\n",
       "      <td>None</td>\n",
       "      <td>None</td>\n",
       "      <td>Bearing Ball</td>\n",
       "      <td></td>\n",
       "      <td></td>\n",
       "      <td>NaN</td>\n",
       "      <td>0</td>\n",
       "      <td>...</td>\n",
       "      <td>None</td>\n",
       "      <td>None</td>\n",
       "      <td>None</td>\n",
       "      <td>None</td>\n",
       "      <td>None</td>\n",
       "      <td>None</td>\n",
       "      <td>None</td>\n",
       "      <td>2003-07-01</td>\n",
       "      <td>NaT</td>\n",
       "      <td>Current</td>\n",
       "    </tr>\n",
       "    <tr>\n",
       "      <th>2</th>\n",
       "      <td>3</td>\n",
       "      <td>BE-2349</td>\n",
       "      <td>NaN</td>\n",
       "      <td>None</td>\n",
       "      <td>None</td>\n",
       "      <td>BB Ball Bearing</td>\n",
       "      <td></td>\n",
       "      <td></td>\n",
       "      <td>NaN</td>\n",
       "      <td>0</td>\n",
       "      <td>...</td>\n",
       "      <td>None</td>\n",
       "      <td>None</td>\n",
       "      <td>None</td>\n",
       "      <td>None</td>\n",
       "      <td>None</td>\n",
       "      <td>None</td>\n",
       "      <td>None</td>\n",
       "      <td>2003-07-01</td>\n",
       "      <td>NaT</td>\n",
       "      <td>Current</td>\n",
       "    </tr>\n",
       "    <tr>\n",
       "      <th>3</th>\n",
       "      <td>4</td>\n",
       "      <td>BE-2908</td>\n",
       "      <td>NaN</td>\n",
       "      <td>None</td>\n",
       "      <td>None</td>\n",
       "      <td>Headset Ball Bearings</td>\n",
       "      <td></td>\n",
       "      <td></td>\n",
       "      <td>NaN</td>\n",
       "      <td>0</td>\n",
       "      <td>...</td>\n",
       "      <td>None</td>\n",
       "      <td>None</td>\n",
       "      <td>None</td>\n",
       "      <td>None</td>\n",
       "      <td>None</td>\n",
       "      <td>None</td>\n",
       "      <td>None</td>\n",
       "      <td>2003-07-01</td>\n",
       "      <td>NaT</td>\n",
       "      <td>Current</td>\n",
       "    </tr>\n",
       "    <tr>\n",
       "      <th>4</th>\n",
       "      <td>5</td>\n",
       "      <td>BL-2036</td>\n",
       "      <td>NaN</td>\n",
       "      <td>None</td>\n",
       "      <td>None</td>\n",
       "      <td>Blade</td>\n",
       "      <td></td>\n",
       "      <td></td>\n",
       "      <td>NaN</td>\n",
       "      <td>0</td>\n",
       "      <td>...</td>\n",
       "      <td>None</td>\n",
       "      <td>None</td>\n",
       "      <td>None</td>\n",
       "      <td>None</td>\n",
       "      <td>None</td>\n",
       "      <td>None</td>\n",
       "      <td>None</td>\n",
       "      <td>2003-07-01</td>\n",
       "      <td>NaT</td>\n",
       "      <td>Current</td>\n",
       "    </tr>\n",
       "    <tr>\n",
       "      <th>...</th>\n",
       "      <td>...</td>\n",
       "      <td>...</td>\n",
       "      <td>...</td>\n",
       "      <td>...</td>\n",
       "      <td>...</td>\n",
       "      <td>...</td>\n",
       "      <td>...</td>\n",
       "      <td>...</td>\n",
       "      <td>...</td>\n",
       "      <td>...</td>\n",
       "      <td>...</td>\n",
       "      <td>...</td>\n",
       "      <td>...</td>\n",
       "      <td>...</td>\n",
       "      <td>...</td>\n",
       "      <td>...</td>\n",
       "      <td>...</td>\n",
       "      <td>...</td>\n",
       "      <td>...</td>\n",
       "      <td>...</td>\n",
       "      <td>...</td>\n",
       "    </tr>\n",
       "    <tr>\n",
       "      <th>601</th>\n",
       "      <td>602</td>\n",
       "      <td>BB-8107</td>\n",
       "      <td>5.0</td>\n",
       "      <td>G</td>\n",
       "      <td>None</td>\n",
       "      <td>ML Bottom Bracket</td>\n",
       "      <td>Eje de pedalier GM</td>\n",
       "      <td>Axe de pédalier ML</td>\n",
       "      <td>44.95</td>\n",
       "      <td>1</td>\n",
       "      <td>...</td>\n",
       "      <td>铝合金车圈；大直径脚蹬轴。</td>\n",
       "      <td>فناجين من سبيكة الألومنيوم؛ ذات محور دوران كبي...</td>\n",
       "      <td>כיסויים מסגסוגת אלומיניום; ציר רחב-קוטר.</td>\n",
       "      <td>ดุมอลูมิเนียมอัลลอยด์ แกนเพลาขนาดใหญ่</td>\n",
       "      <td>Außenringe aus Aluminiumlegierung; Radachse mi...</td>\n",
       "      <td>アルミニウム合金カップ、大径スピンドル。</td>\n",
       "      <td>Alüminyum alaşımı orta göbekler; geniş çaplı mil.</td>\n",
       "      <td>2013-07-01</td>\n",
       "      <td>NaT</td>\n",
       "      <td>Current</td>\n",
       "    </tr>\n",
       "    <tr>\n",
       "      <th>602</th>\n",
       "      <td>603</td>\n",
       "      <td>BB-9108</td>\n",
       "      <td>5.0</td>\n",
       "      <td>G</td>\n",
       "      <td>None</td>\n",
       "      <td>HL Bottom Bracket</td>\n",
       "      <td>Eje de pedalier GA</td>\n",
       "      <td>Axe de pédalier HL</td>\n",
       "      <td>53.94</td>\n",
       "      <td>1</td>\n",
       "      <td>...</td>\n",
       "      <td>铝合金车圈和空心轴。</td>\n",
       "      <td>فناجين من سبيكة الألومنيوم ومحور أجوف.</td>\n",
       "      <td>כיסויים מסגסוגת אלומיניום וציר חלול.</td>\n",
       "      <td>ดุมอลูมิเนียมอัลลอยด์และเพลากลวง</td>\n",
       "      <td>Außenringe aus Aluminiumlegierung und hohle Ac...</td>\n",
       "      <td>アルミニウム合金カップとホロー アクスル。</td>\n",
       "      <td>Alüminyum alaşımı orta göbekler ve içi boş aks.</td>\n",
       "      <td>2013-07-01</td>\n",
       "      <td>NaT</td>\n",
       "      <td>Current</td>\n",
       "    </tr>\n",
       "    <tr>\n",
       "      <th>603</th>\n",
       "      <td>604</td>\n",
       "      <td>BK-R19B-44</td>\n",
       "      <td>2.0</td>\n",
       "      <td>LB</td>\n",
       "      <td>CM</td>\n",
       "      <td>Road-750 Black, 44</td>\n",
       "      <td>Carretera: 750, negra, 44</td>\n",
       "      <td>Vélo de route 750 noir, 44</td>\n",
       "      <td>343.65</td>\n",
       "      <td>1</td>\n",
       "      <td>...</td>\n",
       "      <td>入门级成人自行车；确保越野旅行或公路骑乘的舒适。快拆式车毂和轮缘。</td>\n",
       "      <td>إنها دراجة مناسبة للمبتدئين من البالغين؛ فهي ت...</td>\n",
       "      <td>אופני מבוגרים למתחילים; מציעים רכיבה נוחה \"מחו...</td>\n",
       "      <td>จักรยานระดับเริ่มต้นสำหรับผู้ใหญ่ ให้ความสบายใ...</td>\n",
       "      <td>Ein Erwachsenenrad für Einsteiger; bietet Komf...</td>\n",
       "      <td>エントリー レベルに対応する、クロスカントリーにも街への買い物にも快適な、大人の自転車。ハブ...</td>\n",
       "      <td>\"Başlangıç seviyesinde yetişkin bisikleti, kır...</td>\n",
       "      <td>2013-07-01</td>\n",
       "      <td>NaT</td>\n",
       "      <td>Current</td>\n",
       "    </tr>\n",
       "    <tr>\n",
       "      <th>604</th>\n",
       "      <td>605</td>\n",
       "      <td>BK-R19B-48</td>\n",
       "      <td>2.0</td>\n",
       "      <td>LB</td>\n",
       "      <td>CM</td>\n",
       "      <td>Road-750 Black, 48</td>\n",
       "      <td>Carretera: 750, negra, 48</td>\n",
       "      <td>Vélo de route 750 noir, 48</td>\n",
       "      <td>343.65</td>\n",
       "      <td>1</td>\n",
       "      <td>...</td>\n",
       "      <td>入门级成人自行车；确保越野旅行或公路骑乘的舒适。快拆式车毂和轮缘。</td>\n",
       "      <td>إنها دراجة مناسبة للمبتدئين من البالغين؛ فهي ت...</td>\n",
       "      <td>אופני מבוגרים למתחילים; מציעים רכיבה נוחה \"מחו...</td>\n",
       "      <td>จักรยานระดับเริ่มต้นสำหรับผู้ใหญ่ ให้ความสบายใ...</td>\n",
       "      <td>Ein Erwachsenenrad für Einsteiger; bietet Komf...</td>\n",
       "      <td>エントリー レベルに対応する、クロスカントリーにも街への買い物にも快適な、大人の自転車。ハブ...</td>\n",
       "      <td>\"Başlangıç seviyesinde yetişkin bisikleti, kır...</td>\n",
       "      <td>2013-07-01</td>\n",
       "      <td>NaT</td>\n",
       "      <td>Current</td>\n",
       "    </tr>\n",
       "    <tr>\n",
       "      <th>605</th>\n",
       "      <td>606</td>\n",
       "      <td>BK-R19B-52</td>\n",
       "      <td>2.0</td>\n",
       "      <td>LB</td>\n",
       "      <td>CM</td>\n",
       "      <td>Road-750 Black, 52</td>\n",
       "      <td>Carretera: 750, negra, 52</td>\n",
       "      <td>Vélo de route 750 noir, 52</td>\n",
       "      <td>343.65</td>\n",
       "      <td>1</td>\n",
       "      <td>...</td>\n",
       "      <td>入门级成人自行车；确保越野旅行或公路骑乘的舒适。快拆式车毂和轮缘。</td>\n",
       "      <td>إنها دراجة مناسبة للمبتدئين من البالغين؛ فهي ت...</td>\n",
       "      <td>אופני מבוגרים למתחילים; מציעים רכיבה נוחה \"מחו...</td>\n",
       "      <td>จักรยานระดับเริ่มต้นสำหรับผู้ใหญ่ ให้ความสบายใ...</td>\n",
       "      <td>Ein Erwachsenenrad für Einsteiger; bietet Komf...</td>\n",
       "      <td>エントリー レベルに対応する、クロスカントリーにも街への買い物にも快適な、大人の自転車。ハブ...</td>\n",
       "      <td>\"Başlangıç seviyesinde yetişkin bisikleti, kır...</td>\n",
       "      <td>2013-07-01</td>\n",
       "      <td>NaT</td>\n",
       "      <td>Current</td>\n",
       "    </tr>\n",
       "  </tbody>\n",
       "</table>\n",
       "<p>606 rows × 36 columns</p>\n",
       "</div>"
      ],
      "text/plain": [
       "     ProductKey ProductAlternateKey  ProductSubcategoryKey  \\\n",
       "0             1             AR-5381                    NaN   \n",
       "1             2             BA-8327                    NaN   \n",
       "2             3             BE-2349                    NaN   \n",
       "3             4             BE-2908                    NaN   \n",
       "4             5             BL-2036                    NaN   \n",
       "..          ...                 ...                    ...   \n",
       "601         602             BB-8107                    5.0   \n",
       "602         603             BB-9108                    5.0   \n",
       "603         604          BK-R19B-44                    2.0   \n",
       "604         605          BK-R19B-48                    2.0   \n",
       "605         606          BK-R19B-52                    2.0   \n",
       "\n",
       "    WeightUnitMeasureCode SizeUnitMeasureCode     EnglishProductName  \\\n",
       "0                    None                None        Adjustable Race   \n",
       "1                    None                None           Bearing Ball   \n",
       "2                    None                None        BB Ball Bearing   \n",
       "3                    None                None  Headset Ball Bearings   \n",
       "4                    None                None                  Blade   \n",
       "..                    ...                 ...                    ...   \n",
       "601                     G                None      ML Bottom Bracket   \n",
       "602                     G                None      HL Bottom Bracket   \n",
       "603                    LB                  CM     Road-750 Black, 44   \n",
       "604                    LB                  CM     Road-750 Black, 48   \n",
       "605                    LB                  CM     Road-750 Black, 52   \n",
       "\n",
       "            SpanishProductName           FrenchProductName  StandardCost  \\\n",
       "0                                                                    NaN   \n",
       "1                                                                    NaN   \n",
       "2                                                                    NaN   \n",
       "3                                                                    NaN   \n",
       "4                                                                    NaN   \n",
       "..                         ...                         ...           ...   \n",
       "601         Eje de pedalier GM          Axe de pédalier ML         44.95   \n",
       "602         Eje de pedalier GA          Axe de pédalier HL         53.94   \n",
       "603  Carretera: 750, negra, 44  Vélo de route 750 noir, 44        343.65   \n",
       "604  Carretera: 750, negra, 48  Vélo de route 750 noir, 48        343.65   \n",
       "605  Carretera: 750, negra, 52  Vélo de route 750 noir, 52        343.65   \n",
       "\n",
       "     FinishedGoodsFlag  ...                 ChineseDescription  \\\n",
       "0                    0  ...                               None   \n",
       "1                    0  ...                               None   \n",
       "2                    0  ...                               None   \n",
       "3                    0  ...                               None   \n",
       "4                    0  ...                               None   \n",
       "..                 ...  ...                                ...   \n",
       "601                  1  ...                      铝合金车圈；大直径脚蹬轴。   \n",
       "602                  1  ...                         铝合金车圈和空心轴。   \n",
       "603                  1  ...  入门级成人自行车；确保越野旅行或公路骑乘的舒适。快拆式车毂和轮缘。   \n",
       "604                  1  ...  入门级成人自行车；确保越野旅行或公路骑乘的舒适。快拆式车毂和轮缘。   \n",
       "605                  1  ...  入门级成人自行车；确保越野旅行或公路骑乘的舒适。快拆式车毂和轮缘。   \n",
       "\n",
       "                                     ArabicDescription  \\\n",
       "0                                                 None   \n",
       "1                                                 None   \n",
       "2                                                 None   \n",
       "3                                                 None   \n",
       "4                                                 None   \n",
       "..                                                 ...   \n",
       "601  فناجين من سبيكة الألومنيوم؛ ذات محور دوران كبي...   \n",
       "602             فناجين من سبيكة الألومنيوم ومحور أجوف.   \n",
       "603  إنها دراجة مناسبة للمبتدئين من البالغين؛ فهي ت...   \n",
       "604  إنها دراجة مناسبة للمبتدئين من البالغين؛ فهي ت...   \n",
       "605  إنها دراجة مناسبة للمبتدئين من البالغين؛ فهي ت...   \n",
       "\n",
       "                                     HebrewDescription  \\\n",
       "0                                                 None   \n",
       "1                                                 None   \n",
       "2                                                 None   \n",
       "3                                                 None   \n",
       "4                                                 None   \n",
       "..                                                 ...   \n",
       "601           כיסויים מסגסוגת אלומיניום; ציר רחב-קוטר.   \n",
       "602               כיסויים מסגסוגת אלומיניום וציר חלול.   \n",
       "603  אופני מבוגרים למתחילים; מציעים רכיבה נוחה \"מחו...   \n",
       "604  אופני מבוגרים למתחילים; מציעים רכיבה נוחה \"מחו...   \n",
       "605  אופני מבוגרים למתחילים; מציעים רכיבה נוחה \"מחו...   \n",
       "\n",
       "                                       ThaiDescription  \\\n",
       "0                                                 None   \n",
       "1                                                 None   \n",
       "2                                                 None   \n",
       "3                                                 None   \n",
       "4                                                 None   \n",
       "..                                                 ...   \n",
       "601              ดุมอลูมิเนียมอัลลอยด์ แกนเพลาขนาดใหญ่   \n",
       "602                   ดุมอลูมิเนียมอัลลอยด์และเพลากลวง   \n",
       "603  จักรยานระดับเริ่มต้นสำหรับผู้ใหญ่ ให้ความสบายใ...   \n",
       "604  จักรยานระดับเริ่มต้นสำหรับผู้ใหญ่ ให้ความสบายใ...   \n",
       "605  จักรยานระดับเริ่มต้นสำหรับผู้ใหญ่ ให้ความสบายใ...   \n",
       "\n",
       "                                     GermanDescription  \\\n",
       "0                                                 None   \n",
       "1                                                 None   \n",
       "2                                                 None   \n",
       "3                                                 None   \n",
       "4                                                 None   \n",
       "..                                                 ...   \n",
       "601  Außenringe aus Aluminiumlegierung; Radachse mi...   \n",
       "602  Außenringe aus Aluminiumlegierung und hohle Ac...   \n",
       "603  Ein Erwachsenenrad für Einsteiger; bietet Komf...   \n",
       "604  Ein Erwachsenenrad für Einsteiger; bietet Komf...   \n",
       "605  Ein Erwachsenenrad für Einsteiger; bietet Komf...   \n",
       "\n",
       "                                   JapaneseDescription  \\\n",
       "0                                                 None   \n",
       "1                                                 None   \n",
       "2                                                 None   \n",
       "3                                                 None   \n",
       "4                                                 None   \n",
       "..                                                 ...   \n",
       "601                               アルミニウム合金カップ、大径スピンドル。   \n",
       "602                              アルミニウム合金カップとホロー アクスル。   \n",
       "603  エントリー レベルに対応する、クロスカントリーにも街への買い物にも快適な、大人の自転車。ハブ...   \n",
       "604  エントリー レベルに対応する、クロスカントリーにも街への買い物にも快適な、大人の自転車。ハブ...   \n",
       "605  エントリー レベルに対応する、クロスカントリーにも街への買い物にも快適な、大人の自転車。ハブ...   \n",
       "\n",
       "                                    TurkishDescription  StartDate EndDate  \\\n",
       "0                                                 None 2003-07-01     NaT   \n",
       "1                                                 None 2003-07-01     NaT   \n",
       "2                                                 None 2003-07-01     NaT   \n",
       "3                                                 None 2003-07-01     NaT   \n",
       "4                                                 None 2003-07-01     NaT   \n",
       "..                                                 ...        ...     ...   \n",
       "601  Alüminyum alaşımı orta göbekler; geniş çaplı mil. 2013-07-01     NaT   \n",
       "602    Alüminyum alaşımı orta göbekler ve içi boş aks. 2013-07-01     NaT   \n",
       "603  \"Başlangıç seviyesinde yetişkin bisikleti, kır... 2013-07-01     NaT   \n",
       "604  \"Başlangıç seviyesinde yetişkin bisikleti, kır... 2013-07-01     NaT   \n",
       "605  \"Başlangıç seviyesinde yetişkin bisikleti, kır... 2013-07-01     NaT   \n",
       "\n",
       "      Status  \n",
       "0    Current  \n",
       "1    Current  \n",
       "2    Current  \n",
       "3    Current  \n",
       "4    Current  \n",
       "..       ...  \n",
       "601  Current  \n",
       "602  Current  \n",
       "603  Current  \n",
       "604  Current  \n",
       "605  Current  \n",
       "\n",
       "[606 rows x 36 columns]"
      ]
     },
     "execution_count": 1,
     "metadata": {},
     "output_type": "execute_result"
    }
   ],
   "source": [
    "import os\n",
    "import dotenv\n",
    "import sqlalchemy\n",
    "import pandas as pd\n",
    "from sqlalchemy import create_engine\n",
    "dotenv.load_dotenv(override=True, dotenv_path=\"C:/Users/Giuseppe/OneDrive/Desktop/DATA ANALYST/3_PYTHON/.env\")\n",
    "username = os.getenv(\"username\")\n",
    "password = os.getenv(\"password\")\n",
    "host = os.getenv(\"host\")\n",
    "dbname = os.getenv(\"dbname\")\n",
    "conn_string = \"mysql+pymysql://\" + username + \":\" + password + \"@\" + host + \"/\" + dbname\n",
    "db_engine = sqlalchemy.create_engine(conn_string)\n",
    "query = \"SELECT * FROM dimproduct\"\n",
    "pd.read_sql(query, db_engine)"
   ]
  },
  {
   "cell_type": "code",
   "execution_count": 2,
   "id": "3738c922-a122-4674-965b-1935bd7f2b5e",
   "metadata": {},
   "outputs": [],
   "source": [
    "import pandas as pd\n",
    "import numpy as np"
   ]
  },
  {
   "cell_type": "code",
   "execution_count": 3,
   "id": "77264b24-40ce-4c57-bc1e-fa1e29ba99f4",
   "metadata": {},
   "outputs": [],
   "source": [
    "df = pd.read_sql(query, db_engine)"
   ]
  },
  {
   "cell_type": "code",
   "execution_count": 4,
   "id": "7cfed2a5-e82d-4d75-9818-4ea05cb078e5",
   "metadata": {},
   "outputs": [
    {
     "data": {
      "text/plain": [
       "(606, 36)"
      ]
     },
     "execution_count": 4,
     "metadata": {},
     "output_type": "execute_result"
    }
   ],
   "source": [
    "df.shape"
   ]
  },
  {
   "cell_type": "code",
   "execution_count": 5,
   "id": "46b4b727-def7-4b9f-b567-4a071ee8096c",
   "metadata": {},
   "outputs": [
    {
     "data": {
      "text/plain": [
       "Index(['ProductKey', 'ProductAlternateKey', 'ProductSubcategoryKey',\n",
       "       'WeightUnitMeasureCode', 'SizeUnitMeasureCode', 'EnglishProductName',\n",
       "       'SpanishProductName', 'FrenchProductName', 'StandardCost',\n",
       "       'FinishedGoodsFlag', 'Color', 'SafetyStockLevel', 'ReorderPoint',\n",
       "       'ListPrice', 'Size', 'SizeRange', 'Weight', 'DaysToManufacture',\n",
       "       'ProductLine', 'DealerPrice', 'Class', 'Style', 'ModelName',\n",
       "       'LargePhoto', 'EnglishDescription', 'FrenchDescription',\n",
       "       'ChineseDescription', 'ArabicDescription', 'HebrewDescription',\n",
       "       'ThaiDescription', 'GermanDescription', 'JapaneseDescription',\n",
       "       'TurkishDescription', 'StartDate', 'EndDate', 'Status'],\n",
       "      dtype='object')"
      ]
     },
     "execution_count": 5,
     "metadata": {},
     "output_type": "execute_result"
    }
   ],
   "source": [
    "df.columns"
   ]
  },
  {
   "cell_type": "code",
   "execution_count": 6,
   "id": "bc085f77-3038-44a2-9b3c-f11c0c10528d",
   "metadata": {},
   "outputs": [
    {
     "data": {
      "text/plain": [
       "0          NaN\n",
       "1          NaN\n",
       "2          NaN\n",
       "3          NaN\n",
       "4          NaN\n",
       "        ...   \n",
       "601     60.744\n",
       "602     72.894\n",
       "603    323.994\n",
       "604    323.994\n",
       "605    323.994\n",
       "Name: DealerPrice, Length: 606, dtype: float64"
      ]
     },
     "execution_count": 6,
     "metadata": {},
     "output_type": "execute_result"
    }
   ],
   "source": [
    "df['DealerPrice']"
   ]
  },
  {
   "cell_type": "code",
   "execution_count": 7,
   "id": "546015d9-ff9a-4dca-8621-ad14f0c748bf",
   "metadata": {},
   "outputs": [],
   "source": [
    "df_arrot=df['DealerPrice'].round(2) #Su colonna Dealer Price utilizzando il metodo .round() .#. arrotondiamo i valori alle 2 cifre#\n",
    "                           #decimali, e poi al valore intero più vicino #"
   ]
  },
  {
   "cell_type": "code",
   "execution_count": 8,
   "id": "1a8859bd-bf9c-40cc-875e-2bff5015264e",
   "metadata": {},
   "outputs": [
    {
     "data": {
      "text/plain": [
       "0         NaN\n",
       "1         NaN\n",
       "2         NaN\n",
       "3         NaN\n",
       "4         NaN\n",
       "        ...  \n",
       "601     60.74\n",
       "602     72.89\n",
       "603    323.99\n",
       "604    323.99\n",
       "605    323.99\n",
       "Name: DealerPrice, Length: 606, dtype: float64"
      ]
     },
     "execution_count": 8,
     "metadata": {},
     "output_type": "execute_result"
    }
   ],
   "source": [
    "df_arrot"
   ]
  },
  {
   "cell_type": "code",
   "execution_count": 9,
   "id": "aeed68dc-db8d-49f7-af9c-bb9158b6726f",
   "metadata": {},
   "outputs": [
    {
     "data": {
      "text/plain": [
       "pandas.core.series.Series"
      ]
     },
     "execution_count": 9,
     "metadata": {},
     "output_type": "execute_result"
    }
   ],
   "source": [
    "type(df['DealerPrice'])"
   ]
  },
  {
   "cell_type": "code",
   "execution_count": 10,
   "id": "2ee6e6b9-f164-457f-92a9-06d6d84a829e",
   "metadata": {},
   "outputs": [
    {
     "data": {
      "text/plain": [
       "0        0.00\n",
       "1        0.00\n",
       "2        0.00\n",
       "3        0.00\n",
       "4        0.00\n",
       "        ...  \n",
       "601     60.74\n",
       "602     72.89\n",
       "603    323.99\n",
       "604    323.99\n",
       "605    323.99\n",
       "Name: DealerPrice, Length: 606, dtype: float64"
      ]
     },
     "execution_count": 10,
     "metadata": {},
     "output_type": "execute_result"
    }
   ],
   "source": [
    "df_no_null=df_arrot.fillna(0) #Prima di trasformare i valori in interi bisogna eliminare / sostituire i valori nulli#\n",
    "                   #In questo caso sono stati sostituiti ...#\n",
    "df_no_null"
   ]
  },
  {
   "cell_type": "code",
   "execution_count": 11,
   "id": "7c803b6e-a6ff-49ac-ae9d-8fb40235e3c0",
   "metadata": {},
   "outputs": [
    {
     "data": {
      "text/plain": [
       "0        0\n",
       "1        0\n",
       "2        0\n",
       "3        0\n",
       "4        0\n",
       "      ... \n",
       "601     60\n",
       "602     72\n",
       "603    323\n",
       "604    323\n",
       "605    323\n",
       "Name: DealerPrice, Length: 606, dtype: int32"
      ]
     },
     "execution_count": 11,
     "metadata": {},
     "output_type": "execute_result"
    }
   ],
   "source": [
    "df_SDP_int=df_no_null.astype(int) # A questo punto possiamo trasformare tutto in interi ... #\n",
    "df_SDP_int"
   ]
  },
  {
   "cell_type": "code",
   "execution_count": 12,
   "id": "95bd3176-a431-4387-b517-8a3413488491",
   "metadata": {},
   "outputs": [],
   "source": [
    "#Utilizzando il metodo .clip(), facciamo in modo che i valori siano compresi tra un minimo di 0 e un massimo di 1000#"
   ]
  },
  {
   "cell_type": "code",
   "execution_count": 13,
   "id": "0c341148-d38b-4e6f-9494-29f338442a70",
   "metadata": {},
   "outputs": [
    {
     "data": {
      "text/plain": [
       "0        0\n",
       "1        0\n",
       "2        0\n",
       "3        0\n",
       "4        0\n",
       "      ... \n",
       "601     60\n",
       "602     72\n",
       "603    323\n",
       "604    323\n",
       "605    323\n",
       "Name: DealerPrice, Length: 606, dtype: int32"
      ]
     },
     "execution_count": 13,
     "metadata": {},
     "output_type": "execute_result"
    }
   ],
   "source": [
    "df_SDP_int_clip=df_SDP_int.clip(lower=0,upper=1000)\n",
    "df_SDP_int_clip"
   ]
  },
  {
   "cell_type": "code",
   "execution_count": 14,
   "id": "fada8d04-de3a-4d92-b767-f478f782c292",
   "metadata": {},
   "outputs": [
    {
     "data": {
      "text/plain": [
       "count     606.000000\n",
       "mean      248.305281\n",
       "std       337.015463\n",
       "min         0.000000\n",
       "25%         0.000000\n",
       "50%        37.000000\n",
       "75%       438.500000\n",
       "max      1000.000000\n",
       "Name: DealerPrice, dtype: float64"
      ]
     },
     "execution_count": 14,
     "metadata": {},
     "output_type": "execute_result"
    }
   ],
   "source": [
    "df_SDP_int_clip.describe()"
   ]
  },
  {
   "cell_type": "code",
   "execution_count": 15,
   "id": "49a75c84-524b-4915-b1da-303d812f282e",
   "metadata": {},
   "outputs": [],
   "source": [
    "#Creiamo un DataFrame sintetico, che contiene i guadagni mensili di diverse annate, con il seguente codice:    #"
   ]
  },
  {
   "cell_type": "code",
   "execution_count": 16,
   "id": "2d664180-3d21-4d8f-ba7c-a81e958ffdb2",
   "metadata": {},
   "outputs": [
    {
     "data": {
      "text/html": [
       "<div>\n",
       "<style scoped>\n",
       "    .dataframe tbody tr th:only-of-type {\n",
       "        vertical-align: middle;\n",
       "    }\n",
       "\n",
       "    .dataframe tbody tr th {\n",
       "        vertical-align: top;\n",
       "    }\n",
       "\n",
       "    .dataframe thead th {\n",
       "        text-align: right;\n",
       "    }\n",
       "</style>\n",
       "<table border=\"1\" class=\"dataframe\">\n",
       "  <thead>\n",
       "    <tr style=\"text-align: right;\">\n",
       "      <th></th>\n",
       "      <th>Mese</th>\n",
       "      <th>Anno</th>\n",
       "      <th>Guadagni</th>\n",
       "    </tr>\n",
       "  </thead>\n",
       "  <tbody>\n",
       "    <tr>\n",
       "      <th>0</th>\n",
       "      <td>G</td>\n",
       "      <td>0</td>\n",
       "      <td>2427</td>\n",
       "    </tr>\n",
       "    <tr>\n",
       "      <th>1</th>\n",
       "      <td>F</td>\n",
       "      <td>0</td>\n",
       "      <td>1723</td>\n",
       "    </tr>\n",
       "    <tr>\n",
       "      <th>2</th>\n",
       "      <td>M</td>\n",
       "      <td>0</td>\n",
       "      <td>4533</td>\n",
       "    </tr>\n",
       "    <tr>\n",
       "      <th>3</th>\n",
       "      <td>A</td>\n",
       "      <td>0</td>\n",
       "      <td>4341</td>\n",
       "    </tr>\n",
       "    <tr>\n",
       "      <th>4</th>\n",
       "      <td>M</td>\n",
       "      <td>0</td>\n",
       "      <td>2558</td>\n",
       "    </tr>\n",
       "    <tr>\n",
       "      <th>5</th>\n",
       "      <td>G</td>\n",
       "      <td>0</td>\n",
       "      <td>2648</td>\n",
       "    </tr>\n",
       "    <tr>\n",
       "      <th>6</th>\n",
       "      <td>L</td>\n",
       "      <td>0</td>\n",
       "      <td>2038</td>\n",
       "    </tr>\n",
       "    <tr>\n",
       "      <th>7</th>\n",
       "      <td>A</td>\n",
       "      <td>0</td>\n",
       "      <td>3768</td>\n",
       "    </tr>\n",
       "    <tr>\n",
       "      <th>8</th>\n",
       "      <td>S</td>\n",
       "      <td>0</td>\n",
       "      <td>1249</td>\n",
       "    </tr>\n",
       "    <tr>\n",
       "      <th>9</th>\n",
       "      <td>O</td>\n",
       "      <td>0</td>\n",
       "      <td>902</td>\n",
       "    </tr>\n",
       "    <tr>\n",
       "      <th>10</th>\n",
       "      <td>N</td>\n",
       "      <td>0</td>\n",
       "      <td>4040</td>\n",
       "    </tr>\n",
       "    <tr>\n",
       "      <th>11</th>\n",
       "      <td>D</td>\n",
       "      <td>0</td>\n",
       "      <td>2075</td>\n",
       "    </tr>\n",
       "    <tr>\n",
       "      <th>12</th>\n",
       "      <td>G</td>\n",
       "      <td>1</td>\n",
       "      <td>2630</td>\n",
       "    </tr>\n",
       "    <tr>\n",
       "      <th>13</th>\n",
       "      <td>F</td>\n",
       "      <td>1</td>\n",
       "      <td>1129</td>\n",
       "    </tr>\n",
       "    <tr>\n",
       "      <th>14</th>\n",
       "      <td>M</td>\n",
       "      <td>1</td>\n",
       "      <td>4907</td>\n",
       "    </tr>\n",
       "    <tr>\n",
       "      <th>15</th>\n",
       "      <td>A</td>\n",
       "      <td>1</td>\n",
       "      <td>3620</td>\n",
       "    </tr>\n",
       "    <tr>\n",
       "      <th>16</th>\n",
       "      <td>M</td>\n",
       "      <td>1</td>\n",
       "      <td>1333</td>\n",
       "    </tr>\n",
       "    <tr>\n",
       "      <th>17</th>\n",
       "      <td>G</td>\n",
       "      <td>1</td>\n",
       "      <td>4511</td>\n",
       "    </tr>\n",
       "    <tr>\n",
       "      <th>18</th>\n",
       "      <td>L</td>\n",
       "      <td>1</td>\n",
       "      <td>3118</td>\n",
       "    </tr>\n",
       "    <tr>\n",
       "      <th>19</th>\n",
       "      <td>A</td>\n",
       "      <td>1</td>\n",
       "      <td>4207</td>\n",
       "    </tr>\n",
       "    <tr>\n",
       "      <th>20</th>\n",
       "      <td>S</td>\n",
       "      <td>1</td>\n",
       "      <td>3182</td>\n",
       "    </tr>\n",
       "    <tr>\n",
       "      <th>21</th>\n",
       "      <td>O</td>\n",
       "      <td>1</td>\n",
       "      <td>2827</td>\n",
       "    </tr>\n",
       "    <tr>\n",
       "      <th>22</th>\n",
       "      <td>N</td>\n",
       "      <td>1</td>\n",
       "      <td>2618</td>\n",
       "    </tr>\n",
       "    <tr>\n",
       "      <th>23</th>\n",
       "      <td>D</td>\n",
       "      <td>1</td>\n",
       "      <td>2204</td>\n",
       "    </tr>\n",
       "  </tbody>\n",
       "</table>\n",
       "</div>"
      ],
      "text/plain": [
       "   Mese  Anno  Guadagni\n",
       "0     G     0      2427\n",
       "1     F     0      1723\n",
       "2     M     0      4533\n",
       "3     A     0      4341\n",
       "4     M     0      2558\n",
       "5     G     0      2648\n",
       "6     L     0      2038\n",
       "7     A     0      3768\n",
       "8     S     0      1249\n",
       "9     O     0       902\n",
       "10    N     0      4040\n",
       "11    D     0      2075\n",
       "12    G     1      2630\n",
       "13    F     1      1129\n",
       "14    M     1      4907\n",
       "15    A     1      3620\n",
       "16    M     1      1333\n",
       "17    G     1      4511\n",
       "18    L     1      3118\n",
       "19    A     1      4207\n",
       "20    S     1      3182\n",
       "21    O     1      2827\n",
       "22    N     1      2618\n",
       "23    D     1      2204"
      ]
     },
     "execution_count": 16,
     "metadata": {},
     "output_type": "execute_result"
    }
   ],
   "source": [
    "years = 2\n",
    "a = pd.DataFrame({'Mese' : list('GFMAMGLASOND'*years),\n",
    "                  'Anno' : np.repeat(list(range(years)), 12),\n",
    "                  'Guadagni' : np.random.randint (800, 5000, 12*years)})\n",
    "a"
   ]
  },
  {
   "cell_type": "code",
   "execution_count": 17,
   "id": "437fd460-7a8c-4145-b932-969b1667f40a",
   "metadata": {},
   "outputs": [
    {
     "data": {
      "text/plain": [
       "0      2427\n",
       "1      4150\n",
       "2      8683\n",
       "3     13024\n",
       "4     15582\n",
       "5     18230\n",
       "6     20268\n",
       "7     24036\n",
       "8     25285\n",
       "9     26187\n",
       "10    30227\n",
       "11    32302\n",
       "12     2630\n",
       "13     3759\n",
       "14     8666\n",
       "15    12286\n",
       "16    13619\n",
       "17    18130\n",
       "18    21248\n",
       "19    25455\n",
       "20    28637\n",
       "21    31464\n",
       "22    34082\n",
       "23    36286\n",
       "Name: Guad_anno, dtype: int32"
      ]
     },
     "execution_count": 17,
     "metadata": {},
     "output_type": "execute_result"
    }
   ],
   "source": [
    "a[\"Guad_anno\"] = a.groupby(\"Anno\").Guadagni.cumsum()\n",
    "a[\"Guad_anno\"]"
   ]
  },
  {
   "cell_type": "code",
   "execution_count": 18,
   "id": "98994217-0205-47ff-92ef-404f18a4725e",
   "metadata": {},
   "outputs": [
    {
     "data": {
      "text/plain": [
       "<Axes: title={'center': 'Yearly Cumulative Sum'}>"
      ]
     },
     "execution_count": 18,
     "metadata": {},
     "output_type": "execute_result"
    },
    {
     "data": {
      "image/png": "[encoded data removed]",
      "text/plain": [
       "<Figure size 640x480 with 1 Axes>"
      ]
     },
     "metadata": {},
     "output_type": "display_data"
    }
   ],
   "source": [
    "x=a[\"Guad_anno\"]\n",
    "import matplotlib.pyplot as plt\n",
    "x.plot(title=\"Yearly Cumulative Sum\")"
   ]
  },
  {
   "cell_type": "code",
   "execution_count": 19,
   "id": "2c97b686-a664-40a2-9832-277d22fe6703",
   "metadata": {},
   "outputs": [],
   "source": [
    "import os\n",
    "import dotenv\n",
    "import sqlalchemy\n",
    "import pandas as pd\n",
    "from sqlalchemy import create_engine\n",
    "dotenv.load_dotenv(override=True, dotenv_path=\"C:/Users/Giuseppe/OneDrive/Desktop/DATA ANALYST/3_PYTHON/.env\")\n",
    "username = os.getenv(\"username\")\n",
    "password = os.getenv(\"password\")\n",
    "host = os.getenv(\"host\")\n",
    "dbname = os.getenv(\"dbname\")\n",
    "conn_string = \"mysql+pymysql://\" + username + \":\" + password + \"@\" + host + \"/\" + dbname\n",
    "db_engine = sqlalchemy.create_engine(conn_string)"
   ]
  },
  {
   "cell_type": "code",
   "execution_count": 20,
   "id": "7355fa7c-0b56-4c47-8a8e-dc24f1281410",
   "metadata": {},
   "outputs": [
    {
     "data": {
      "text/html": [
       "<div>\n",
       "<style scoped>\n",
       "    .dataframe tbody tr th:only-of-type {\n",
       "        vertical-align: middle;\n",
       "    }\n",
       "\n",
       "    .dataframe tbody tr th {\n",
       "        vertical-align: top;\n",
       "    }\n",
       "\n",
       "    .dataframe thead th {\n",
       "        text-align: right;\n",
       "    }\n",
       "</style>\n",
       "<table border=\"1\" class=\"dataframe\">\n",
       "  <thead>\n",
       "    <tr style=\"text-align: right;\">\n",
       "      <th></th>\n",
       "      <th>CustomerKey</th>\n",
       "      <th>GeographyKey</th>\n",
       "      <th>CustomerAlternateKey</th>\n",
       "      <th>Title</th>\n",
       "      <th>FirstName</th>\n",
       "      <th>MiddleName</th>\n",
       "      <th>LastName</th>\n",
       "      <th>NameStyle</th>\n",
       "      <th>BirthDate</th>\n",
       "      <th>MaritalStatus</th>\n",
       "      <th>...</th>\n",
       "      <th>EnglishOccupation</th>\n",
       "      <th>SpanishOccupation</th>\n",
       "      <th>FrenchOccupation</th>\n",
       "      <th>HouseOwnerFlag</th>\n",
       "      <th>NumberCarsOwned</th>\n",
       "      <th>AddressLine1</th>\n",
       "      <th>AddressLine2</th>\n",
       "      <th>Phone</th>\n",
       "      <th>DateFirstPurchase</th>\n",
       "      <th>CommuteDistance</th>\n",
       "    </tr>\n",
       "  </thead>\n",
       "  <tbody>\n",
       "    <tr>\n",
       "      <th>0</th>\n",
       "      <td>11000</td>\n",
       "      <td>26</td>\n",
       "      <td>AW00011000</td>\n",
       "      <td>None</td>\n",
       "      <td>Jon</td>\n",
       "      <td>V</td>\n",
       "      <td>Yang</td>\n",
       "      <td>0</td>\n",
       "      <td>1971-10-06</td>\n",
       "      <td>M</td>\n",
       "      <td>...</td>\n",
       "      <td>Professional</td>\n",
       "      <td>Profesional</td>\n",
       "      <td>Cadre</td>\n",
       "      <td>1</td>\n",
       "      <td>0</td>\n",
       "      <td>3761 N. 14th St</td>\n",
       "      <td>None</td>\n",
       "      <td>1 (11) 500 555-0162</td>\n",
       "      <td>2011-01-19</td>\n",
       "      <td>1-2 Miles</td>\n",
       "    </tr>\n",
       "    <tr>\n",
       "      <th>1</th>\n",
       "      <td>11001</td>\n",
       "      <td>37</td>\n",
       "      <td>AW00011001</td>\n",
       "      <td>None</td>\n",
       "      <td>Eugene</td>\n",
       "      <td>L</td>\n",
       "      <td>Huang</td>\n",
       "      <td>0</td>\n",
       "      <td>1976-05-10</td>\n",
       "      <td>S</td>\n",
       "      <td>...</td>\n",
       "      <td>Professional</td>\n",
       "      <td>Profesional</td>\n",
       "      <td>Cadre</td>\n",
       "      <td>0</td>\n",
       "      <td>1</td>\n",
       "      <td>2243 W St.</td>\n",
       "      <td>None</td>\n",
       "      <td>1 (11) 500 555-0110</td>\n",
       "      <td>2011-01-15</td>\n",
       "      <td>0-1 Miles</td>\n",
       "    </tr>\n",
       "    <tr>\n",
       "      <th>2</th>\n",
       "      <td>11002</td>\n",
       "      <td>31</td>\n",
       "      <td>AW00011002</td>\n",
       "      <td>None</td>\n",
       "      <td>Ruben</td>\n",
       "      <td>None</td>\n",
       "      <td>Torres</td>\n",
       "      <td>0</td>\n",
       "      <td>1971-02-09</td>\n",
       "      <td>M</td>\n",
       "      <td>...</td>\n",
       "      <td>Professional</td>\n",
       "      <td>Profesional</td>\n",
       "      <td>Cadre</td>\n",
       "      <td>1</td>\n",
       "      <td>1</td>\n",
       "      <td>5844 Linden Land</td>\n",
       "      <td>None</td>\n",
       "      <td>1 (11) 500 555-0184</td>\n",
       "      <td>2011-01-07</td>\n",
       "      <td>2-5 Miles</td>\n",
       "    </tr>\n",
       "    <tr>\n",
       "      <th>3</th>\n",
       "      <td>11003</td>\n",
       "      <td>11</td>\n",
       "      <td>AW00011003</td>\n",
       "      <td>None</td>\n",
       "      <td>Christy</td>\n",
       "      <td>None</td>\n",
       "      <td>Zhu</td>\n",
       "      <td>0</td>\n",
       "      <td>1973-08-14</td>\n",
       "      <td>S</td>\n",
       "      <td>...</td>\n",
       "      <td>Professional</td>\n",
       "      <td>Profesional</td>\n",
       "      <td>Cadre</td>\n",
       "      <td>0</td>\n",
       "      <td>1</td>\n",
       "      <td>1825 Village Pl.</td>\n",
       "      <td>None</td>\n",
       "      <td>1 (11) 500 555-0162</td>\n",
       "      <td>2010-12-29</td>\n",
       "      <td>5-10 Miles</td>\n",
       "    </tr>\n",
       "    <tr>\n",
       "      <th>4</th>\n",
       "      <td>11004</td>\n",
       "      <td>19</td>\n",
       "      <td>AW00011004</td>\n",
       "      <td>None</td>\n",
       "      <td>Elizabeth</td>\n",
       "      <td>None</td>\n",
       "      <td>Johnson</td>\n",
       "      <td>0</td>\n",
       "      <td>1979-08-05</td>\n",
       "      <td>S</td>\n",
       "      <td>...</td>\n",
       "      <td>Professional</td>\n",
       "      <td>Profesional</td>\n",
       "      <td>Cadre</td>\n",
       "      <td>1</td>\n",
       "      <td>4</td>\n",
       "      <td>7553 Harness Circle</td>\n",
       "      <td>None</td>\n",
       "      <td>1 (11) 500 555-0131</td>\n",
       "      <td>2011-01-23</td>\n",
       "      <td>1-2 Miles</td>\n",
       "    </tr>\n",
       "    <tr>\n",
       "      <th>...</th>\n",
       "      <td>...</td>\n",
       "      <td>...</td>\n",
       "      <td>...</td>\n",
       "      <td>...</td>\n",
       "      <td>...</td>\n",
       "      <td>...</td>\n",
       "      <td>...</td>\n",
       "      <td>...</td>\n",
       "      <td>...</td>\n",
       "      <td>...</td>\n",
       "      <td>...</td>\n",
       "      <td>...</td>\n",
       "      <td>...</td>\n",
       "      <td>...</td>\n",
       "      <td>...</td>\n",
       "      <td>...</td>\n",
       "      <td>...</td>\n",
       "      <td>...</td>\n",
       "      <td>...</td>\n",
       "      <td>...</td>\n",
       "      <td>...</td>\n",
       "    </tr>\n",
       "    <tr>\n",
       "      <th>18479</th>\n",
       "      <td>29479</td>\n",
       "      <td>209</td>\n",
       "      <td>AW00029479</td>\n",
       "      <td>None</td>\n",
       "      <td>Tommy</td>\n",
       "      <td>L</td>\n",
       "      <td>Tang</td>\n",
       "      <td>0</td>\n",
       "      <td>1969-06-30</td>\n",
       "      <td>M</td>\n",
       "      <td>...</td>\n",
       "      <td>Clerical</td>\n",
       "      <td>Administrativo</td>\n",
       "      <td>Employé</td>\n",
       "      <td>1</td>\n",
       "      <td>0</td>\n",
       "      <td>111, rue Maillard</td>\n",
       "      <td>None</td>\n",
       "      <td>1 (11) 500 555-0136</td>\n",
       "      <td>2012-09-04</td>\n",
       "      <td>0-1 Miles</td>\n",
       "    </tr>\n",
       "    <tr>\n",
       "      <th>18480</th>\n",
       "      <td>29480</td>\n",
       "      <td>248</td>\n",
       "      <td>AW00029480</td>\n",
       "      <td>None</td>\n",
       "      <td>Nina</td>\n",
       "      <td>W</td>\n",
       "      <td>Raji</td>\n",
       "      <td>0</td>\n",
       "      <td>1977-05-06</td>\n",
       "      <td>S</td>\n",
       "      <td>...</td>\n",
       "      <td>Clerical</td>\n",
       "      <td>Administrativo</td>\n",
       "      <td>Employé</td>\n",
       "      <td>1</td>\n",
       "      <td>0</td>\n",
       "      <td>9 Katherine Drive</td>\n",
       "      <td>None</td>\n",
       "      <td>1 (11) 500 555-0146</td>\n",
       "      <td>2013-07-17</td>\n",
       "      <td>0-1 Miles</td>\n",
       "    </tr>\n",
       "    <tr>\n",
       "      <th>18481</th>\n",
       "      <td>29481</td>\n",
       "      <td>120</td>\n",
       "      <td>AW00029481</td>\n",
       "      <td>None</td>\n",
       "      <td>Ivan</td>\n",
       "      <td>None</td>\n",
       "      <td>Suri</td>\n",
       "      <td>0</td>\n",
       "      <td>1965-07-04</td>\n",
       "      <td>S</td>\n",
       "      <td>...</td>\n",
       "      <td>Clerical</td>\n",
       "      <td>Administrativo</td>\n",
       "      <td>Employé</td>\n",
       "      <td>0</td>\n",
       "      <td>0</td>\n",
       "      <td>Knaackstr 4</td>\n",
       "      <td>None</td>\n",
       "      <td>1 (11) 500 555-0144</td>\n",
       "      <td>2011-08-13</td>\n",
       "      <td>0-1 Miles</td>\n",
       "    </tr>\n",
       "    <tr>\n",
       "      <th>18482</th>\n",
       "      <td>29482</td>\n",
       "      <td>179</td>\n",
       "      <td>AW00029482</td>\n",
       "      <td>None</td>\n",
       "      <td>Clayton</td>\n",
       "      <td>None</td>\n",
       "      <td>Zhang</td>\n",
       "      <td>0</td>\n",
       "      <td>1964-09-01</td>\n",
       "      <td>M</td>\n",
       "      <td>...</td>\n",
       "      <td>Clerical</td>\n",
       "      <td>Administrativo</td>\n",
       "      <td>Employé</td>\n",
       "      <td>1</td>\n",
       "      <td>0</td>\n",
       "      <td>1080, quai de Grenelle</td>\n",
       "      <td>None</td>\n",
       "      <td>1 (11) 500 555-0137</td>\n",
       "      <td>2012-09-18</td>\n",
       "      <td>0-1 Miles</td>\n",
       "    </tr>\n",
       "    <tr>\n",
       "      <th>18483</th>\n",
       "      <td>29483</td>\n",
       "      <td>217</td>\n",
       "      <td>AW00029483</td>\n",
       "      <td>None</td>\n",
       "      <td>Jésus</td>\n",
       "      <td>L</td>\n",
       "      <td>Navarro</td>\n",
       "      <td>0</td>\n",
       "      <td>1965-06-06</td>\n",
       "      <td>M</td>\n",
       "      <td>...</td>\n",
       "      <td>Clerical</td>\n",
       "      <td>Administrativo</td>\n",
       "      <td>Employé</td>\n",
       "      <td>1</td>\n",
       "      <td>0</td>\n",
       "      <td>244, rue de la Centenaire</td>\n",
       "      <td>None</td>\n",
       "      <td>1 (11) 500 555-0141</td>\n",
       "      <td>2012-09-09</td>\n",
       "      <td>0-1 Miles</td>\n",
       "    </tr>\n",
       "  </tbody>\n",
       "</table>\n",
       "<p>18484 rows × 29 columns</p>\n",
       "</div>"
      ],
      "text/plain": [
       "       CustomerKey  GeographyKey CustomerAlternateKey Title  FirstName  \\\n",
       "0            11000            26           AW00011000  None        Jon   \n",
       "1            11001            37           AW00011001  None     Eugene   \n",
       "2            11002            31           AW00011002  None      Ruben   \n",
       "3            11003            11           AW00011003  None    Christy   \n",
       "4            11004            19           AW00011004  None  Elizabeth   \n",
       "...            ...           ...                  ...   ...        ...   \n",
       "18479        29479           209           AW00029479  None      Tommy   \n",
       "18480        29480           248           AW00029480  None       Nina   \n",
       "18481        29481           120           AW00029481  None       Ivan   \n",
       "18482        29482           179           AW00029482  None    Clayton   \n",
       "18483        29483           217           AW00029483  None      Jésus   \n",
       "\n",
       "      MiddleName LastName  NameStyle   BirthDate MaritalStatus  ...  \\\n",
       "0              V     Yang          0  1971-10-06             M  ...   \n",
       "1              L    Huang          0  1976-05-10             S  ...   \n",
       "2           None   Torres          0  1971-02-09             M  ...   \n",
       "3           None      Zhu          0  1973-08-14             S  ...   \n",
       "4           None  Johnson          0  1979-08-05             S  ...   \n",
       "...          ...      ...        ...         ...           ...  ...   \n",
       "18479          L     Tang          0  1969-06-30             M  ...   \n",
       "18480          W     Raji          0  1977-05-06             S  ...   \n",
       "18481       None     Suri          0  1965-07-04             S  ...   \n",
       "18482       None    Zhang          0  1964-09-01             M  ...   \n",
       "18483          L  Navarro          0  1965-06-06             M  ...   \n",
       "\n",
       "      EnglishOccupation SpanishOccupation FrenchOccupation  HouseOwnerFlag  \\\n",
       "0          Professional       Profesional            Cadre               1   \n",
       "1          Professional       Profesional            Cadre               0   \n",
       "2          Professional       Profesional            Cadre               1   \n",
       "3          Professional       Profesional            Cadre               0   \n",
       "4          Professional       Profesional            Cadre               1   \n",
       "...                 ...               ...              ...             ...   \n",
       "18479          Clerical    Administrativo          Employé               1   \n",
       "18480          Clerical    Administrativo          Employé               1   \n",
       "18481          Clerical    Administrativo          Employé               0   \n",
       "18482          Clerical    Administrativo          Employé               1   \n",
       "18483          Clerical    Administrativo          Employé               1   \n",
       "\n",
       "       NumberCarsOwned               AddressLine1 AddressLine2  \\\n",
       "0                    0            3761 N. 14th St         None   \n",
       "1                    1                 2243 W St.         None   \n",
       "2                    1           5844 Linden Land         None   \n",
       "3                    1           1825 Village Pl.         None   \n",
       "4                    4        7553 Harness Circle         None   \n",
       "...                ...                        ...          ...   \n",
       "18479                0          111, rue Maillard         None   \n",
       "18480                0          9 Katherine Drive         None   \n",
       "18481                0                Knaackstr 4         None   \n",
       "18482                0     1080, quai de Grenelle         None   \n",
       "18483                0  244, rue de la Centenaire         None   \n",
       "\n",
       "                     Phone DateFirstPurchase CommuteDistance  \n",
       "0      1 (11) 500 555-0162        2011-01-19       1-2 Miles  \n",
       "1      1 (11) 500 555-0110        2011-01-15       0-1 Miles  \n",
       "2      1 (11) 500 555-0184        2011-01-07       2-5 Miles  \n",
       "3      1 (11) 500 555-0162        2010-12-29      5-10 Miles  \n",
       "4      1 (11) 500 555-0131        2011-01-23       1-2 Miles  \n",
       "...                    ...               ...             ...  \n",
       "18479  1 (11) 500 555-0136        2012-09-04       0-1 Miles  \n",
       "18480  1 (11) 500 555-0146        2013-07-17       0-1 Miles  \n",
       "18481  1 (11) 500 555-0144        2011-08-13       0-1 Miles  \n",
       "18482  1 (11) 500 555-0137        2012-09-18       0-1 Miles  \n",
       "18483  1 (11) 500 555-0141        2012-09-09       0-1 Miles  \n",
       "\n",
       "[18484 rows x 29 columns]"
      ]
     },
     "execution_count": 20,
     "metadata": {},
     "output_type": "execute_result"
    }
   ],
   "source": [
    "query = \"SELECT * FROM dimcustomer\"\n",
    "pd.read_sql(query, db_engine)"
   ]
  },
  {
   "cell_type": "code",
   "execution_count": 21,
   "id": "98a8f320-ff5c-4009-9d8c-9396379dd805",
   "metadata": {},
   "outputs": [],
   "source": [
    "dim_cust=pd.read_sql(query, db_engine)"
   ]
  },
  {
   "cell_type": "code",
   "execution_count": 22,
   "id": "57858dcf-23a6-4f66-b843-587603f76f55",
   "metadata": {},
   "outputs": [
    {
     "data": {
      "text/html": [
       "<div>\n",
       "<style scoped>\n",
       "    .dataframe tbody tr th:only-of-type {\n",
       "        vertical-align: middle;\n",
       "    }\n",
       "\n",
       "    .dataframe tbody tr th {\n",
       "        vertical-align: top;\n",
       "    }\n",
       "\n",
       "    .dataframe thead th {\n",
       "        text-align: right;\n",
       "    }\n",
       "</style>\n",
       "<table border=\"1\" class=\"dataframe\">\n",
       "  <thead>\n",
       "    <tr style=\"text-align: right;\">\n",
       "      <th></th>\n",
       "      <th>CustomerKey</th>\n",
       "      <th>GeographyKey</th>\n",
       "      <th>CustomerAlternateKey</th>\n",
       "      <th>Title</th>\n",
       "      <th>FirstName</th>\n",
       "      <th>MiddleName</th>\n",
       "      <th>LastName</th>\n",
       "      <th>NameStyle</th>\n",
       "      <th>BirthDate</th>\n",
       "      <th>MaritalStatus</th>\n",
       "      <th>...</th>\n",
       "      <th>EnglishOccupation</th>\n",
       "      <th>SpanishOccupation</th>\n",
       "      <th>FrenchOccupation</th>\n",
       "      <th>HouseOwnerFlag</th>\n",
       "      <th>NumberCarsOwned</th>\n",
       "      <th>AddressLine1</th>\n",
       "      <th>AddressLine2</th>\n",
       "      <th>Phone</th>\n",
       "      <th>DateFirstPurchase</th>\n",
       "      <th>CommuteDistance</th>\n",
       "    </tr>\n",
       "  </thead>\n",
       "  <tbody>\n",
       "    <tr>\n",
       "      <th>0</th>\n",
       "      <td>11000</td>\n",
       "      <td>26</td>\n",
       "      <td>AW00011000</td>\n",
       "      <td>None</td>\n",
       "      <td>Jon</td>\n",
       "      <td>V</td>\n",
       "      <td>Yang</td>\n",
       "      <td>0</td>\n",
       "      <td>1971-10-06</td>\n",
       "      <td>M</td>\n",
       "      <td>...</td>\n",
       "      <td>Professional</td>\n",
       "      <td>Profesional</td>\n",
       "      <td>Cadre</td>\n",
       "      <td>1</td>\n",
       "      <td>0</td>\n",
       "      <td>3761 N. 14th St</td>\n",
       "      <td>None</td>\n",
       "      <td>1 (11) 500 555-0162</td>\n",
       "      <td>2011-01-19</td>\n",
       "      <td>1-2 Miles</td>\n",
       "    </tr>\n",
       "    <tr>\n",
       "      <th>1</th>\n",
       "      <td>11001</td>\n",
       "      <td>37</td>\n",
       "      <td>AW00011001</td>\n",
       "      <td>None</td>\n",
       "      <td>Eugene</td>\n",
       "      <td>L</td>\n",
       "      <td>Huang</td>\n",
       "      <td>0</td>\n",
       "      <td>1976-05-10</td>\n",
       "      <td>S</td>\n",
       "      <td>...</td>\n",
       "      <td>Professional</td>\n",
       "      <td>Profesional</td>\n",
       "      <td>Cadre</td>\n",
       "      <td>0</td>\n",
       "      <td>1</td>\n",
       "      <td>2243 W St.</td>\n",
       "      <td>None</td>\n",
       "      <td>1 (11) 500 555-0110</td>\n",
       "      <td>2011-01-15</td>\n",
       "      <td>0-1 Miles</td>\n",
       "    </tr>\n",
       "    <tr>\n",
       "      <th>2</th>\n",
       "      <td>11002</td>\n",
       "      <td>31</td>\n",
       "      <td>AW00011002</td>\n",
       "      <td>None</td>\n",
       "      <td>Ruben</td>\n",
       "      <td>None</td>\n",
       "      <td>Torres</td>\n",
       "      <td>0</td>\n",
       "      <td>1971-02-09</td>\n",
       "      <td>M</td>\n",
       "      <td>...</td>\n",
       "      <td>Professional</td>\n",
       "      <td>Profesional</td>\n",
       "      <td>Cadre</td>\n",
       "      <td>1</td>\n",
       "      <td>1</td>\n",
       "      <td>5844 Linden Land</td>\n",
       "      <td>None</td>\n",
       "      <td>1 (11) 500 555-0184</td>\n",
       "      <td>2011-01-07</td>\n",
       "      <td>2-5 Miles</td>\n",
       "    </tr>\n",
       "    <tr>\n",
       "      <th>3</th>\n",
       "      <td>11003</td>\n",
       "      <td>11</td>\n",
       "      <td>AW00011003</td>\n",
       "      <td>None</td>\n",
       "      <td>Christy</td>\n",
       "      <td>None</td>\n",
       "      <td>Zhu</td>\n",
       "      <td>0</td>\n",
       "      <td>1973-08-14</td>\n",
       "      <td>S</td>\n",
       "      <td>...</td>\n",
       "      <td>Professional</td>\n",
       "      <td>Profesional</td>\n",
       "      <td>Cadre</td>\n",
       "      <td>0</td>\n",
       "      <td>1</td>\n",
       "      <td>1825 Village Pl.</td>\n",
       "      <td>None</td>\n",
       "      <td>1 (11) 500 555-0162</td>\n",
       "      <td>2010-12-29</td>\n",
       "      <td>5-10 Miles</td>\n",
       "    </tr>\n",
       "    <tr>\n",
       "      <th>4</th>\n",
       "      <td>11004</td>\n",
       "      <td>19</td>\n",
       "      <td>AW00011004</td>\n",
       "      <td>None</td>\n",
       "      <td>Elizabeth</td>\n",
       "      <td>None</td>\n",
       "      <td>Johnson</td>\n",
       "      <td>0</td>\n",
       "      <td>1979-08-05</td>\n",
       "      <td>S</td>\n",
       "      <td>...</td>\n",
       "      <td>Professional</td>\n",
       "      <td>Profesional</td>\n",
       "      <td>Cadre</td>\n",
       "      <td>1</td>\n",
       "      <td>4</td>\n",
       "      <td>7553 Harness Circle</td>\n",
       "      <td>None</td>\n",
       "      <td>1 (11) 500 555-0131</td>\n",
       "      <td>2011-01-23</td>\n",
       "      <td>1-2 Miles</td>\n",
       "    </tr>\n",
       "    <tr>\n",
       "      <th>...</th>\n",
       "      <td>...</td>\n",
       "      <td>...</td>\n",
       "      <td>...</td>\n",
       "      <td>...</td>\n",
       "      <td>...</td>\n",
       "      <td>...</td>\n",
       "      <td>...</td>\n",
       "      <td>...</td>\n",
       "      <td>...</td>\n",
       "      <td>...</td>\n",
       "      <td>...</td>\n",
       "      <td>...</td>\n",
       "      <td>...</td>\n",
       "      <td>...</td>\n",
       "      <td>...</td>\n",
       "      <td>...</td>\n",
       "      <td>...</td>\n",
       "      <td>...</td>\n",
       "      <td>...</td>\n",
       "      <td>...</td>\n",
       "      <td>...</td>\n",
       "    </tr>\n",
       "    <tr>\n",
       "      <th>18479</th>\n",
       "      <td>29479</td>\n",
       "      <td>209</td>\n",
       "      <td>AW00029479</td>\n",
       "      <td>None</td>\n",
       "      <td>Tommy</td>\n",
       "      <td>L</td>\n",
       "      <td>Tang</td>\n",
       "      <td>0</td>\n",
       "      <td>1969-06-30</td>\n",
       "      <td>M</td>\n",
       "      <td>...</td>\n",
       "      <td>Clerical</td>\n",
       "      <td>Administrativo</td>\n",
       "      <td>Employé</td>\n",
       "      <td>1</td>\n",
       "      <td>0</td>\n",
       "      <td>111, rue Maillard</td>\n",
       "      <td>None</td>\n",
       "      <td>1 (11) 500 555-0136</td>\n",
       "      <td>2012-09-04</td>\n",
       "      <td>0-1 Miles</td>\n",
       "    </tr>\n",
       "    <tr>\n",
       "      <th>18480</th>\n",
       "      <td>29480</td>\n",
       "      <td>248</td>\n",
       "      <td>AW00029480</td>\n",
       "      <td>None</td>\n",
       "      <td>Nina</td>\n",
       "      <td>W</td>\n",
       "      <td>Raji</td>\n",
       "      <td>0</td>\n",
       "      <td>1977-05-06</td>\n",
       "      <td>S</td>\n",
       "      <td>...</td>\n",
       "      <td>Clerical</td>\n",
       "      <td>Administrativo</td>\n",
       "      <td>Employé</td>\n",
       "      <td>1</td>\n",
       "      <td>0</td>\n",
       "      <td>9 Katherine Drive</td>\n",
       "      <td>None</td>\n",
       "      <td>1 (11) 500 555-0146</td>\n",
       "      <td>2013-07-17</td>\n",
       "      <td>0-1 Miles</td>\n",
       "    </tr>\n",
       "    <tr>\n",
       "      <th>18481</th>\n",
       "      <td>29481</td>\n",
       "      <td>120</td>\n",
       "      <td>AW00029481</td>\n",
       "      <td>None</td>\n",
       "      <td>Ivan</td>\n",
       "      <td>None</td>\n",
       "      <td>Suri</td>\n",
       "      <td>0</td>\n",
       "      <td>1965-07-04</td>\n",
       "      <td>S</td>\n",
       "      <td>...</td>\n",
       "      <td>Clerical</td>\n",
       "      <td>Administrativo</td>\n",
       "      <td>Employé</td>\n",
       "      <td>0</td>\n",
       "      <td>0</td>\n",
       "      <td>Knaackstr 4</td>\n",
       "      <td>None</td>\n",
       "      <td>1 (11) 500 555-0144</td>\n",
       "      <td>2011-08-13</td>\n",
       "      <td>0-1 Miles</td>\n",
       "    </tr>\n",
       "    <tr>\n",
       "      <th>18482</th>\n",
       "      <td>29482</td>\n",
       "      <td>179</td>\n",
       "      <td>AW00029482</td>\n",
       "      <td>None</td>\n",
       "      <td>Clayton</td>\n",
       "      <td>None</td>\n",
       "      <td>Zhang</td>\n",
       "      <td>0</td>\n",
       "      <td>1964-09-01</td>\n",
       "      <td>M</td>\n",
       "      <td>...</td>\n",
       "      <td>Clerical</td>\n",
       "      <td>Administrativo</td>\n",
       "      <td>Employé</td>\n",
       "      <td>1</td>\n",
       "      <td>0</td>\n",
       "      <td>1080, quai de Grenelle</td>\n",
       "      <td>None</td>\n",
       "      <td>1 (11) 500 555-0137</td>\n",
       "      <td>2012-09-18</td>\n",
       "      <td>0-1 Miles</td>\n",
       "    </tr>\n",
       "    <tr>\n",
       "      <th>18483</th>\n",
       "      <td>29483</td>\n",
       "      <td>217</td>\n",
       "      <td>AW00029483</td>\n",
       "      <td>None</td>\n",
       "      <td>Jésus</td>\n",
       "      <td>L</td>\n",
       "      <td>Navarro</td>\n",
       "      <td>0</td>\n",
       "      <td>1965-06-06</td>\n",
       "      <td>M</td>\n",
       "      <td>...</td>\n",
       "      <td>Clerical</td>\n",
       "      <td>Administrativo</td>\n",
       "      <td>Employé</td>\n",
       "      <td>1</td>\n",
       "      <td>0</td>\n",
       "      <td>244, rue de la Centenaire</td>\n",
       "      <td>None</td>\n",
       "      <td>1 (11) 500 555-0141</td>\n",
       "      <td>2012-09-09</td>\n",
       "      <td>0-1 Miles</td>\n",
       "    </tr>\n",
       "  </tbody>\n",
       "</table>\n",
       "<p>18484 rows × 29 columns</p>\n",
       "</div>"
      ],
      "text/plain": [
       "       CustomerKey  GeographyKey CustomerAlternateKey Title  FirstName  \\\n",
       "0            11000            26           AW00011000  None        Jon   \n",
       "1            11001            37           AW00011001  None     Eugene   \n",
       "2            11002            31           AW00011002  None      Ruben   \n",
       "3            11003            11           AW00011003  None    Christy   \n",
       "4            11004            19           AW00011004  None  Elizabeth   \n",
       "...            ...           ...                  ...   ...        ...   \n",
       "18479        29479           209           AW00029479  None      Tommy   \n",
       "18480        29480           248           AW00029480  None       Nina   \n",
       "18481        29481           120           AW00029481  None       Ivan   \n",
       "18482        29482           179           AW00029482  None    Clayton   \n",
       "18483        29483           217           AW00029483  None      Jésus   \n",
       "\n",
       "      MiddleName LastName  NameStyle   BirthDate MaritalStatus  ...  \\\n",
       "0              V     Yang          0  1971-10-06             M  ...   \n",
       "1              L    Huang          0  1976-05-10             S  ...   \n",
       "2           None   Torres          0  1971-02-09             M  ...   \n",
       "3           None      Zhu          0  1973-08-14             S  ...   \n",
       "4           None  Johnson          0  1979-08-05             S  ...   \n",
       "...          ...      ...        ...         ...           ...  ...   \n",
       "18479          L     Tang          0  1969-06-30             M  ...   \n",
       "18480          W     Raji          0  1977-05-06             S  ...   \n",
       "18481       None     Suri          0  1965-07-04             S  ...   \n",
       "18482       None    Zhang          0  1964-09-01             M  ...   \n",
       "18483          L  Navarro          0  1965-06-06             M  ...   \n",
       "\n",
       "      EnglishOccupation SpanishOccupation FrenchOccupation  HouseOwnerFlag  \\\n",
       "0          Professional       Profesional            Cadre               1   \n",
       "1          Professional       Profesional            Cadre               0   \n",
       "2          Professional       Profesional            Cadre               1   \n",
       "3          Professional       Profesional            Cadre               0   \n",
       "4          Professional       Profesional            Cadre               1   \n",
       "...                 ...               ...              ...             ...   \n",
       "18479          Clerical    Administrativo          Employé               1   \n",
       "18480          Clerical    Administrativo          Employé               1   \n",
       "18481          Clerical    Administrativo          Employé               0   \n",
       "18482          Clerical    Administrativo          Employé               1   \n",
       "18483          Clerical    Administrativo          Employé               1   \n",
       "\n",
       "       NumberCarsOwned               AddressLine1 AddressLine2  \\\n",
       "0                    0            3761 N. 14th St         None   \n",
       "1                    1                 2243 W St.         None   \n",
       "2                    1           5844 Linden Land         None   \n",
       "3                    1           1825 Village Pl.         None   \n",
       "4                    4        7553 Harness Circle         None   \n",
       "...                ...                        ...          ...   \n",
       "18479                0          111, rue Maillard         None   \n",
       "18480                0          9 Katherine Drive         None   \n",
       "18481                0                Knaackstr 4         None   \n",
       "18482                0     1080, quai de Grenelle         None   \n",
       "18483                0  244, rue de la Centenaire         None   \n",
       "\n",
       "                     Phone DateFirstPurchase CommuteDistance  \n",
       "0      1 (11) 500 555-0162        2011-01-19       1-2 Miles  \n",
       "1      1 (11) 500 555-0110        2011-01-15       0-1 Miles  \n",
       "2      1 (11) 500 555-0184        2011-01-07       2-5 Miles  \n",
       "3      1 (11) 500 555-0162        2010-12-29      5-10 Miles  \n",
       "4      1 (11) 500 555-0131        2011-01-23       1-2 Miles  \n",
       "...                    ...               ...             ...  \n",
       "18479  1 (11) 500 555-0136        2012-09-04       0-1 Miles  \n",
       "18480  1 (11) 500 555-0146        2013-07-17       0-1 Miles  \n",
       "18481  1 (11) 500 555-0144        2011-08-13       0-1 Miles  \n",
       "18482  1 (11) 500 555-0137        2012-09-18       0-1 Miles  \n",
       "18483  1 (11) 500 555-0141        2012-09-09       0-1 Miles  \n",
       "\n",
       "[18484 rows x 29 columns]"
      ]
     },
     "execution_count": 22,
     "metadata": {},
     "output_type": "execute_result"
    }
   ],
   "source": [
    "dim_cust"
   ]
  },
  {
   "cell_type": "code",
   "execution_count": 23,
   "id": "498a5c69-7c13-41f7-afd8-1ed44bf38cf3",
   "metadata": {},
   "outputs": [
    {
     "data": {
      "text/plain": [
       "Index(['CustomerKey', 'GeographyKey', 'CustomerAlternateKey', 'Title',\n",
       "       'FirstName', 'MiddleName', 'LastName', 'NameStyle', 'BirthDate',\n",
       "       'MaritalStatus', 'Suffix', 'Gender', 'EmailAddress', 'YearlyIncome',\n",
       "       'TotalChildren', 'NumberChildrenAtHome', 'EnglishEducation',\n",
       "       'SpanishEducation', 'FrenchEducation', 'EnglishOccupation',\n",
       "       'SpanishOccupation', 'FrenchOccupation', 'HouseOwnerFlag',\n",
       "       'NumberCarsOwned', 'AddressLine1', 'AddressLine2', 'Phone',\n",
       "       'DateFirstPurchase', 'CommuteDistance'],\n",
       "      dtype='object')"
      ]
     },
     "execution_count": 23,
     "metadata": {},
     "output_type": "execute_result"
    }
   ],
   "source": [
    "dim_cust.columns  #Esercizio 1/2 ...#"
   ]
  },
  {
   "cell_type": "code",
   "execution_count": 24,
   "id": "3bd89b3f-c519-4483-b860-27c40c9f5ca1",
   "metadata": {},
   "outputs": [
    {
     "data": {
      "text/plain": [
       "0              jon\n",
       "1           eugene\n",
       "2            ruben\n",
       "3          christy\n",
       "4        elizabeth\n",
       "           ...    \n",
       "18479        tommy\n",
       "18480         nina\n",
       "18481         ivan\n",
       "18482      clayton\n",
       "18483        jésus\n",
       "Name: FirstName, Length: 18484, dtype: object"
      ]
     },
     "execution_count": 24,
     "metadata": {},
     "output_type": "execute_result"
    }
   ],
   "source": [
    "dim_cust['FirstName'].str.lower()  #Trasforma i nomi in minuscolo ... #"
   ]
  },
  {
   "cell_type": "code",
   "execution_count": 25,
   "id": "06810c62-d52e-49f7-9993-a8c28e8be9d9",
   "metadata": {},
   "outputs": [
    {
     "data": {
      "text/plain": [
       "0           YANG\n",
       "1          HUANG\n",
       "2         TORRES\n",
       "3            ZHU\n",
       "4        JOHNSON\n",
       "          ...   \n",
       "18479       TANG\n",
       "18480       RAJI\n",
       "18481       SURI\n",
       "18482      ZHANG\n",
       "18483    NAVARRO\n",
       "Name: LastName, Length: 18484, dtype: object"
      ]
     },
     "execution_count": 25,
     "metadata": {},
     "output_type": "execute_result"
    }
   ],
   "source": [
    "dim_cust['LastName'].str.upper()  #Trasforma i Cognomi in maiuscolo ... #"
   ]
  },
  {
   "cell_type": "code",
   "execution_count": 26,
   "id": "3a66e797-bb5f-4718-b852-9f9a394eb29b",
   "metadata": {},
   "outputs": [],
   "source": [
    "#Sulla colonna EmailAdress, utilizzando il metodo .str.split(),estraiamo nome utente e dominio# "
   ]
  },
  {
   "cell_type": "code",
   "execution_count": 27,
   "id": "e4da59d6-fb27-46e0-97b9-fac3fe5947f3",
   "metadata": {},
   "outputs": [
    {
     "data": {
      "text/plain": [
       "0             [jon24, adventure-works.com]\n",
       "1          [eugene10, adventure-works.com]\n",
       "2           [ruben35, adventure-works.com]\n",
       "3         [christy12, adventure-works.com]\n",
       "4        [elizabeth5, adventure-works.com]\n",
       "                       ...                \n",
       "18479        [tommy2, adventure-works.com]\n",
       "18480        [nina21, adventure-works.com]\n",
       "18481         [ivan0, adventure-works.com]\n",
       "18482      [clayton0, adventure-works.com]\n",
       "18483        [jésus9, adventure-works.com]\n",
       "Name: EmailAddress, Length: 18484, dtype: object"
      ]
     },
     "execution_count": 27,
     "metadata": {},
     "output_type": "execute_result"
    }
   ],
   "source": [
    "dim_cust['EmailAddress'].str.split('@')"
   ]
  },
  {
   "cell_type": "code",
   "execution_count": 28,
   "id": "1134af5e-f16c-4ec5-8706-0754f2070613",
   "metadata": {},
   "outputs": [],
   "source": [
    "#Sulla colonna Phone, estraiamo ogni parte del numero (Ad es. da 1 (11) ...)"
   ]
  },
  {
   "cell_type": "code",
   "execution_count": 29,
   "id": "702eb9da-a3bf-49f1-844c-075536567e48",
   "metadata": {},
   "outputs": [
    {
     "data": {
      "text/plain": [
       "0        [1, (11), 500, 555-0162]\n",
       "1        [1, (11), 500, 555-0110]\n",
       "2        [1, (11), 500, 555-0184]\n",
       "3        [1, (11), 500, 555-0162]\n",
       "4        [1, (11), 500, 555-0131]\n",
       "                   ...           \n",
       "18479    [1, (11), 500, 555-0136]\n",
       "18480    [1, (11), 500, 555-0146]\n",
       "18481    [1, (11), 500, 555-0144]\n",
       "18482    [1, (11), 500, 555-0137]\n",
       "18483    [1, (11), 500, 555-0141]\n",
       "Name: Phone, Length: 18484, dtype: object"
      ]
     },
     "execution_count": 29,
     "metadata": {},
     "output_type": "execute_result"
    }
   ],
   "source": [
    "dim_cust['Phone'].str.split(' ')"
   ]
  },
  {
   "cell_type": "code",
   "execution_count": 30,
   "id": "9592be94-3b4f-44e3-912c-269d789929cb",
   "metadata": {},
   "outputs": [],
   "source": [
    "#Utilizzando il metodo str.contains(), estraiamo tutti gli indirizzi e-mail che contengono il numero 21 #"
   ]
  },
  {
   "cell_type": "code",
   "execution_count": 31,
   "id": "8e82ef36-a12e-4d93-afb8-e58a16d2c76b",
   "metadata": {},
   "outputs": [],
   "source": [
    "dim_filtro21=dim_cust['EmailAddress'].str.contains('21')"
   ]
  },
  {
   "cell_type": "code",
   "execution_count": 32,
   "id": "0c466230-8493-4995-860a-cc5ec6d70b77",
   "metadata": {},
   "outputs": [
    {
     "data": {
      "text/plain": [
       "64          chase21@adventure-works.com\n",
       "118         alvin21@adventure-works.com\n",
       "130      caroline21@adventure-works.com\n",
       "163       gabriel21@adventure-works.com\n",
       "203          luis21@adventure-works.com\n",
       "                      ...              \n",
       "18337      hector21@adventure-works.com\n",
       "18365      cheryl21@adventure-works.com\n",
       "18435     stanley21@adventure-works.com\n",
       "18440      rafael21@adventure-works.com\n",
       "18480        nina21@adventure-works.com\n",
       "Name: EmailAddress, Length: 431, dtype: object"
      ]
     },
     "execution_count": 32,
     "metadata": {},
     "output_type": "execute_result"
    }
   ],
   "source": [
    "dim_2=dim_cust[dim_filtro21]\n",
    "dim_2['EmailAddress']"
   ]
  },
  {
   "cell_type": "code",
   "execution_count": 33,
   "id": "839c1464-415c-48fc-8d67-31c28009d424",
   "metadata": {},
   "outputs": [],
   "source": [
    "#Esercizio 2/2 Estraiamo tutti gli indirizzi e-mail che contengono il numero '20' oppure il numero '10' #"
   ]
  },
  {
   "cell_type": "code",
   "execution_count": 34,
   "id": "193843a6-ce46-4e96-9911-8f5fccd64ce6",
   "metadata": {},
   "outputs": [
    {
     "data": {
      "text/plain": [
       "10        jacquelyn20@adventure-works.com\n",
       "22            ethan20@adventure-works.com\n",
       "79           donald20@adventure-works.com\n",
       "115           alvin20@adventure-works.com\n",
       "146           karla20@adventure-works.com\n",
       "                       ...               \n",
       "18342        cassie20@adventure-works.com\n",
       "18369        arturo20@adventure-works.com\n",
       "18384       latasha20@adventure-works.com\n",
       "18415         oscar20@adventure-works.com\n",
       "18428    kristopher20@adventure-works.com\n",
       "Name: EmailAddress, Length: 483, dtype: object"
      ]
     },
     "execution_count": 34,
     "metadata": {},
     "output_type": "execute_result"
    }
   ],
   "source": [
    "dim_filtro20=dim_cust['EmailAddress'].str.contains('20')\n",
    "dim_3=dim_cust[dim_filtro20]\n",
    "dim_3['EmailAddress']"
   ]
  },
  {
   "cell_type": "code",
   "execution_count": 35,
   "id": "78dbab2f-d28b-4c0b-a9e8-c1072029ee1c",
   "metadata": {},
   "outputs": [
    {
     "data": {
      "text/plain": [
       "1         eugene10@adventure-works.com\n",
       "30       bethany10@adventure-works.com\n",
       "32        denise10@adventure-works.com\n",
       "44          adam10@adventure-works.com\n",
       "100      latasha10@adventure-works.com\n",
       "                     ...              \n",
       "18300        joe10@adventure-works.com\n",
       "18330      alexa10@adventure-works.com\n",
       "18395      lydia10@adventure-works.com\n",
       "18397     walter10@adventure-works.com\n",
       "18418    lindsey10@adventure-works.com\n",
       "Name: EmailAddress, Length: 559, dtype: object"
      ]
     },
     "execution_count": 35,
     "metadata": {},
     "output_type": "execute_result"
    }
   ],
   "source": [
    "dim_filtro10=dim_cust['EmailAddress'].str.contains('10')\n",
    "dim_3=dim_cust[dim_filtro10]\n",
    "dim_3['EmailAddress']"
   ]
  },
  {
   "cell_type": "code",
   "execution_count": 36,
   "id": "6f66f2b1-32f7-497f-ab69-2ca665e3371a",
   "metadata": {},
   "outputs": [
    {
     "data": {
      "text/plain": [
       "0        25\n",
       "1        28\n",
       "2        27\n",
       "3        29\n",
       "4        30\n",
       "         ..\n",
       "18479    26\n",
       "18480    26\n",
       "18481    25\n",
       "18482    28\n",
       "18483    26\n",
       "Name: Lunghezza, Length: 18484, dtype: int64"
      ]
     },
     "execution_count": 36,
     "metadata": {},
     "output_type": "execute_result"
    }
   ],
   "source": [
    "dim_cust[\"Lunghezza\"] = dim_cust[\"EmailAddress\"].str.len()\n",
    "dim_cust['Lunghezza']    #Calcolare la lunghezza di ogni indirizzo e-mail ed estrarre i.. #"
   ]
  },
  {
   "cell_type": "code",
   "execution_count": 37,
   "id": "c5301d35-ef0a-4eb5-8ad7-5c04e1c2bfd7",
   "metadata": {},
   "outputs": [
    {
     "data": {
      "text/plain": [
       "count    18484.000000\n",
       "mean        27.676098\n",
       "std          1.485740\n",
       "min         22.000000\n",
       "25%         27.000000\n",
       "50%         28.000000\n",
       "75%         29.000000\n",
       "max         33.000000\n",
       "Name: Lunghezza, dtype: float64"
      ]
     },
     "execution_count": 37,
     "metadata": {},
     "output_type": "execute_result"
    }
   ],
   "source": [
    "dim_cust['Lunghezza'].describe()"
   ]
  },
  {
   "cell_type": "code",
   "execution_count": 38,
   "id": "d6241d66-49e2-4e98-8277-6a3a96581963",
   "metadata": {},
   "outputs": [
    {
     "data": {
      "text/html": [
       "<div>\n",
       "<style scoped>\n",
       "    .dataframe tbody tr th:only-of-type {\n",
       "        vertical-align: middle;\n",
       "    }\n",
       "\n",
       "    .dataframe tbody tr th {\n",
       "        vertical-align: top;\n",
       "    }\n",
       "\n",
       "    .dataframe thead th {\n",
       "        text-align: right;\n",
       "    }\n",
       "</style>\n",
       "<table border=\"1\" class=\"dataframe\">\n",
       "  <thead>\n",
       "    <tr style=\"text-align: right;\">\n",
       "      <th></th>\n",
       "      <th>EmailAddress</th>\n",
       "      <th>Lunghezza</th>\n",
       "    </tr>\n",
       "  </thead>\n",
       "  <tbody>\n",
       "    <tr>\n",
       "      <th>9242</th>\n",
       "      <td>christopher11@adventure-works.com</td>\n",
       "      <td>33</td>\n",
       "    </tr>\n",
       "    <tr>\n",
       "      <th>2655</th>\n",
       "      <td>christopher23@adventure-works.com</td>\n",
       "      <td>33</td>\n",
       "    </tr>\n",
       "    <tr>\n",
       "      <th>14964</th>\n",
       "      <td>christopher26@adventure-works.com</td>\n",
       "      <td>33</td>\n",
       "    </tr>\n",
       "    <tr>\n",
       "      <th>3512</th>\n",
       "      <td>christopher27@adventure-works.com</td>\n",
       "      <td>33</td>\n",
       "    </tr>\n",
       "    <tr>\n",
       "      <th>17017</th>\n",
       "      <td>christopher15@adventure-works.com</td>\n",
       "      <td>33</td>\n",
       "    </tr>\n",
       "    <tr>\n",
       "      <th>13417</th>\n",
       "      <td>christopher14@adventure-works.com</td>\n",
       "      <td>33</td>\n",
       "    </tr>\n",
       "    <tr>\n",
       "      <th>10233</th>\n",
       "      <td>christopher24@adventure-works.com</td>\n",
       "      <td>33</td>\n",
       "    </tr>\n",
       "    <tr>\n",
       "      <th>16661</th>\n",
       "      <td>christopher17@adventure-works.com</td>\n",
       "      <td>33</td>\n",
       "    </tr>\n",
       "    <tr>\n",
       "      <th>1767</th>\n",
       "      <td>christopher18@adventure-works.com</td>\n",
       "      <td>33</td>\n",
       "    </tr>\n",
       "    <tr>\n",
       "      <th>8768</th>\n",
       "      <td>christopher12@adventure-works.com</td>\n",
       "      <td>33</td>\n",
       "    </tr>\n",
       "  </tbody>\n",
       "</table>\n",
       "</div>"
      ],
      "text/plain": [
       "                            EmailAddress  Lunghezza\n",
       "9242   christopher11@adventure-works.com         33\n",
       "2655   christopher23@adventure-works.com         33\n",
       "14964  christopher26@adventure-works.com         33\n",
       "3512   christopher27@adventure-works.com         33\n",
       "17017  christopher15@adventure-works.com         33\n",
       "13417  christopher14@adventure-works.com         33\n",
       "10233  christopher24@adventure-works.com         33\n",
       "16661  christopher17@adventure-works.com         33\n",
       "1767   christopher18@adventure-works.com         33\n",
       "8768   christopher12@adventure-works.com         33"
      ]
     },
     "execution_count": 38,
     "metadata": {},
     "output_type": "execute_result"
    }
   ],
   "source": [
    "dim_cust['Lunghezza']\n",
    "dim_cust[['EmailAddress', 'Lunghezza']].sort_values('Lunghezza', ascending=False).head(10)"
   ]
  },
  {
   "cell_type": "code",
   "execution_count": 39,
   "id": "1349e136-0d9f-4359-bbe5-9a3cef0706c2",
   "metadata": {},
   "outputs": [
    {
     "data": {
      "text/html": [
       "<div>\n",
       "<style scoped>\n",
       "    .dataframe tbody tr th:only-of-type {\n",
       "        vertical-align: middle;\n",
       "    }\n",
       "\n",
       "    .dataframe tbody tr th {\n",
       "        vertical-align: top;\n",
       "    }\n",
       "\n",
       "    .dataframe thead th {\n",
       "        text-align: right;\n",
       "    }\n",
       "</style>\n",
       "<table border=\"1\" class=\"dataframe\">\n",
       "  <thead>\n",
       "    <tr style=\"text-align: right;\">\n",
       "      <th></th>\n",
       "      <th>EmailAddress</th>\n",
       "      <th>Lunghezza</th>\n",
       "    </tr>\n",
       "  </thead>\n",
       "  <tbody>\n",
       "    <tr>\n",
       "      <th>3974</th>\n",
       "      <td>k0@adventure-works.com</td>\n",
       "      <td>22</td>\n",
       "    </tr>\n",
       "    <tr>\n",
       "      <th>15299</th>\n",
       "      <td>y0@adventure-works.com</td>\n",
       "      <td>22</td>\n",
       "    </tr>\n",
       "    <tr>\n",
       "      <th>1658</th>\n",
       "      <td>joy2@adventure-works.com</td>\n",
       "      <td>24</td>\n",
       "    </tr>\n",
       "    <tr>\n",
       "      <th>550</th>\n",
       "      <td>deb4@adventure-works.com</td>\n",
       "      <td>24</td>\n",
       "    </tr>\n",
       "    <tr>\n",
       "      <th>13888</th>\n",
       "      <td>roy9@adventure-works.com</td>\n",
       "      <td>24</td>\n",
       "    </tr>\n",
       "    <tr>\n",
       "      <th>6264</th>\n",
       "      <td>ian1@adventure-works.com</td>\n",
       "      <td>24</td>\n",
       "    </tr>\n",
       "    <tr>\n",
       "      <th>2326</th>\n",
       "      <td>bob8@adventure-works.com</td>\n",
       "      <td>24</td>\n",
       "    </tr>\n",
       "    <tr>\n",
       "      <th>13825</th>\n",
       "      <td>zoe3@adventure-works.com</td>\n",
       "      <td>24</td>\n",
       "    </tr>\n",
       "    <tr>\n",
       "      <th>215</th>\n",
       "      <td>ana7@adventure-works.com</td>\n",
       "      <td>24</td>\n",
       "    </tr>\n",
       "    <tr>\n",
       "      <th>11213</th>\n",
       "      <td>jay9@adventure-works.com</td>\n",
       "      <td>24</td>\n",
       "    </tr>\n",
       "  </tbody>\n",
       "</table>\n",
       "</div>"
      ],
      "text/plain": [
       "                   EmailAddress  Lunghezza\n",
       "3974     k0@adventure-works.com         22\n",
       "15299    y0@adventure-works.com         22\n",
       "1658   joy2@adventure-works.com         24\n",
       "550    deb4@adventure-works.com         24\n",
       "13888  roy9@adventure-works.com         24\n",
       "6264   ian1@adventure-works.com         24\n",
       "2326   bob8@adventure-works.com         24\n",
       "13825  zoe3@adventure-works.com         24\n",
       "215    ana7@adventure-works.com         24\n",
       "11213  jay9@adventure-works.com         24"
      ]
     },
     "execution_count": 39,
     "metadata": {},
     "output_type": "execute_result"
    }
   ],
   "source": [
    "dim_cust['Lunghezza']   #... ed i 10 più corti .... #\n",
    "dim_cust[['EmailAddress', 'Lunghezza']].sort_values('Lunghezza', ascending=True).head(10)"
   ]
  },
  {
   "cell_type": "code",
   "execution_count": 40,
   "id": "9be5096a-4d52-4c60-a2fb-ff88a0dc93d3",
   "metadata": {},
   "outputs": [],
   "source": [
    "d_min=dim_cust['Lunghezza'].min()"
   ]
  },
  {
   "cell_type": "code",
   "execution_count": 41,
   "id": "bfc2e321-7ff6-4fbc-aaa2-f4673c2cdc54",
   "metadata": {},
   "outputs": [
    {
     "data": {
      "text/plain": [
       "22"
      ]
     },
     "execution_count": 41,
     "metadata": {},
     "output_type": "execute_result"
    }
   ],
   "source": [
    "d_min"
   ]
  },
  {
   "cell_type": "code",
   "execution_count": 42,
   "id": "cd963ab4-1636-4895-b608-ffd980ffacf3",
   "metadata": {},
   "outputs": [],
   "source": [
    "dim_cust_filtrato=dim_cust['Lunghezza']==d_min\n",
    "dim_cust_mail_min=dim_cust[dim_cust_filtrato]"
   ]
  },
  {
   "cell_type": "code",
   "execution_count": 43,
   "id": "bc801754-f775-4167-8621-f9e8d48b7223",
   "metadata": {},
   "outputs": [
    {
     "data": {
      "text/html": [
       "<div>\n",
       "<style scoped>\n",
       "    .dataframe tbody tr th:only-of-type {\n",
       "        vertical-align: middle;\n",
       "    }\n",
       "\n",
       "    .dataframe tbody tr th {\n",
       "        vertical-align: top;\n",
       "    }\n",
       "\n",
       "    .dataframe thead th {\n",
       "        text-align: right;\n",
       "    }\n",
       "</style>\n",
       "<table border=\"1\" class=\"dataframe\">\n",
       "  <thead>\n",
       "    <tr style=\"text-align: right;\">\n",
       "      <th></th>\n",
       "      <th>EmailAddress</th>\n",
       "      <th>Lunghezza</th>\n",
       "    </tr>\n",
       "  </thead>\n",
       "  <tbody>\n",
       "    <tr>\n",
       "      <th>3974</th>\n",
       "      <td>k0@adventure-works.com</td>\n",
       "      <td>22</td>\n",
       "    </tr>\n",
       "    <tr>\n",
       "      <th>15299</th>\n",
       "      <td>y0@adventure-works.com</td>\n",
       "      <td>22</td>\n",
       "    </tr>\n",
       "  </tbody>\n",
       "</table>\n",
       "</div>"
      ],
      "text/plain": [
       "                 EmailAddress  Lunghezza\n",
       "3974   k0@adventure-works.com         22\n",
       "15299  y0@adventure-works.com         22"
      ]
     },
     "execution_count": 43,
     "metadata": {},
     "output_type": "execute_result"
    }
   ],
   "source": [
    "dim_cust_mail_min[['EmailAddress','Lunghezza']]"
   ]
  },
  {
   "cell_type": "code",
   "execution_count": 44,
   "id": "aa7868fd-8e8b-4851-bb23-49e5b222d55c",
   "metadata": {},
   "outputs": [],
   "source": [
    "dim_cust_mail_rep = dim_cust['EmailAddress'].str.replace('adventure-works.com', 'aw-db.com')"
   ]
  },
  {
   "cell_type": "code",
   "execution_count": 45,
   "id": "4626c395-ec8e-46e4-add9-a71fae8de6ef",
   "metadata": {},
   "outputs": [
    {
     "data": {
      "text/plain": [
       "0             jon24@aw-db.com\n",
       "1          eugene10@aw-db.com\n",
       "2           ruben35@aw-db.com\n",
       "3         christy12@aw-db.com\n",
       "4        elizabeth5@aw-db.com\n",
       "                 ...         \n",
       "18479        tommy2@aw-db.com\n",
       "18480        nina21@aw-db.com\n",
       "18481         ivan0@aw-db.com\n",
       "18482      clayton0@aw-db.com\n",
       "18483        jésus9@aw-db.com\n",
       "Name: EmailAddress, Length: 18484, dtype: object"
      ]
     },
     "execution_count": 45,
     "metadata": {},
     "output_type": "execute_result"
    }
   ],
   "source": [
    "dim_cust_mail_rep   #Modificare il dominio degli indirizzi e-mail da 'adventure-works.com' a 'aw-db.com' mediante #\n",
    "                    #il metodo .str.replace() #"
   ]
  },
  {
   "cell_type": "code",
   "execution_count": 46,
   "id": "9f7f575e-e5c5-41fd-9915-ace5fd50ca72",
   "metadata": {},
   "outputs": [],
   "source": [
    "#Dalla colonna AddressLine1 estraiamo tutti gli indirizzi che contengono la sottostringa 'Street' #"
   ]
  },
  {
   "cell_type": "code",
   "execution_count": 47,
   "id": "a3db42d8-a5c3-4354-8be0-9fe9d8a6c211",
   "metadata": {},
   "outputs": [],
   "source": [
    "dim_filter_Add=dim_cust['AddressLine1'].str.contains('Street')"
   ]
  },
  {
   "cell_type": "code",
   "execution_count": 48,
   "id": "186fab0e-3bb2-4422-a108-90ad33ba3cbe",
   "metadata": {},
   "outputs": [
    {
     "data": {
      "text/plain": [
       "7              942 Brook Street\n",
       "12            4785 Scott Street\n",
       "32           626 Bentley Street\n",
       "63           4927 Virgil Street\n",
       "125          8481 Zartop Street\n",
       "                  ...          \n",
       "18273        2155 Zartop Street\n",
       "18292         3931 Scott Street\n",
       "18323    134 Peachwillow Street\n",
       "18333       1023 Hawkins Street\n",
       "18351          8618 Rose Street\n",
       "Name: AddressLine1, Length: 512, dtype: object"
      ]
     },
     "execution_count": 48,
     "metadata": {},
     "output_type": "execute_result"
    }
   ],
   "source": [
    "dim_filtro_Street=dim_cust['AddressLine1'].str.contains('Street')\n",
    "dim_Street=dim_cust[dim_filtro_Street]\n",
    "dim_Street['AddressLine1']"
   ]
  },
  {
   "cell_type": "code",
   "execution_count": 49,
   "id": "03076a88-316b-4cd0-b3f5-10e3950d2505",
   "metadata": {},
   "outputs": [
    {
     "ename": "FileNotFoundError",
     "evalue": "[Errno 2] No such file or directory: 'C:/Users/Giuseppe/3_PYTHON/FILE_ESERC_CSV/facebook.csv'",
     "output_type": "error",
     "traceback": [
      "\u001b[1;31m---------------------------------------------------------------------------\u001b[0m",
      "\u001b[1;31mFileNotFoundError\u001b[0m                         Traceback (most recent call last)",
      "Cell \u001b[1;32mIn[49], line 2\u001b[0m\n\u001b[0;32m      1\u001b[0m filepath \u001b[38;5;241m=\u001b[39m \u001b[38;5;124m\"\u001b[39m\u001b[38;5;124mC:/Users/Giuseppe/3_PYTHON/FILE_ESERC_CSV/facebook.csv\u001b[39m\u001b[38;5;124m\"\u001b[39m \n\u001b[1;32m----> 2\u001b[0m fac \u001b[38;5;241m=\u001b[39m pd\u001b[38;5;241m.\u001b[39mread_csv(filepath)\n",
      "File \u001b[1;32m~\\anaconda3\\Lib\\site-packages\\pandas\\io\\parsers\\readers.py:1026\u001b[0m, in \u001b[0;36mread_csv\u001b[1;34m(filepath_or_buffer, sep, delimiter, header, names, index_col, usecols, dtype, engine, converters, true_values, false_values, skipinitialspace, skiprows, skipfooter, nrows, na_values, keep_default_na, na_filter, verbose, skip_blank_lines, parse_dates, infer_datetime_format, keep_date_col, date_parser, date_format, dayfirst, cache_dates, iterator, chunksize, compression, thousands, decimal, lineterminator, quotechar, quoting, doublequote, escapechar, comment, encoding, encoding_errors, dialect, on_bad_lines, delim_whitespace, low_memory, memory_map, float_precision, storage_options, dtype_backend)\u001b[0m\n\u001b[0;32m   1013\u001b[0m kwds_defaults \u001b[38;5;241m=\u001b[39m _refine_defaults_read(\n\u001b[0;32m   1014\u001b[0m     dialect,\n\u001b[0;32m   1015\u001b[0m     delimiter,\n\u001b[1;32m   (...)\u001b[0m\n\u001b[0;32m   1022\u001b[0m     dtype_backend\u001b[38;5;241m=\u001b[39mdtype_backend,\n\u001b[0;32m   1023\u001b[0m )\n\u001b[0;32m   1024\u001b[0m kwds\u001b[38;5;241m.\u001b[39mupdate(kwds_defaults)\n\u001b[1;32m-> 1026\u001b[0m \u001b[38;5;28;01mreturn\u001b[39;00m _read(filepath_or_buffer, kwds)\n",
      "File \u001b[1;32m~\\anaconda3\\Lib\\site-packages\\pandas\\io\\parsers\\readers.py:620\u001b[0m, in \u001b[0;36m_read\u001b[1;34m(filepath_or_buffer, kwds)\u001b[0m\n\u001b[0;32m    617\u001b[0m _validate_names(kwds\u001b[38;5;241m.\u001b[39mget(\u001b[38;5;124m\"\u001b[39m\u001b[38;5;124mnames\u001b[39m\u001b[38;5;124m\"\u001b[39m, \u001b[38;5;28;01mNone\u001b[39;00m))\n\u001b[0;32m    619\u001b[0m \u001b[38;5;66;03m# Create the parser.\u001b[39;00m\n\u001b[1;32m--> 620\u001b[0m parser \u001b[38;5;241m=\u001b[39m TextFileReader(filepath_or_buffer, \u001b[38;5;241m*\u001b[39m\u001b[38;5;241m*\u001b[39mkwds)\n\u001b[0;32m    622\u001b[0m \u001b[38;5;28;01mif\u001b[39;00m chunksize \u001b[38;5;129;01mor\u001b[39;00m iterator:\n\u001b[0;32m    623\u001b[0m     \u001b[38;5;28;01mreturn\u001b[39;00m parser\n",
      "File \u001b[1;32m~\\anaconda3\\Lib\\site-packages\\pandas\\io\\parsers\\readers.py:1620\u001b[0m, in \u001b[0;36mTextFileReader.__init__\u001b[1;34m(self, f, engine, **kwds)\u001b[0m\n\u001b[0;32m   1617\u001b[0m     \u001b[38;5;28mself\u001b[39m\u001b[38;5;241m.\u001b[39moptions[\u001b[38;5;124m\"\u001b[39m\u001b[38;5;124mhas_index_names\u001b[39m\u001b[38;5;124m\"\u001b[39m] \u001b[38;5;241m=\u001b[39m kwds[\u001b[38;5;124m\"\u001b[39m\u001b[38;5;124mhas_index_names\u001b[39m\u001b[38;5;124m\"\u001b[39m]\n\u001b[0;32m   1619\u001b[0m \u001b[38;5;28mself\u001b[39m\u001b[38;5;241m.\u001b[39mhandles: IOHandles \u001b[38;5;241m|\u001b[39m \u001b[38;5;28;01mNone\u001b[39;00m \u001b[38;5;241m=\u001b[39m \u001b[38;5;28;01mNone\u001b[39;00m\n\u001b[1;32m-> 1620\u001b[0m \u001b[38;5;28mself\u001b[39m\u001b[38;5;241m.\u001b[39m_engine \u001b[38;5;241m=\u001b[39m \u001b[38;5;28mself\u001b[39m\u001b[38;5;241m.\u001b[39m_make_engine(f, \u001b[38;5;28mself\u001b[39m\u001b[38;5;241m.\u001b[39mengine)\n",
      "File \u001b[1;32m~\\anaconda3\\Lib\\site-packages\\pandas\\io\\parsers\\readers.py:1880\u001b[0m, in \u001b[0;36mTextFileReader._make_engine\u001b[1;34m(self, f, engine)\u001b[0m\n\u001b[0;32m   1878\u001b[0m     \u001b[38;5;28;01mif\u001b[39;00m \u001b[38;5;124m\"\u001b[39m\u001b[38;5;124mb\u001b[39m\u001b[38;5;124m\"\u001b[39m \u001b[38;5;129;01mnot\u001b[39;00m \u001b[38;5;129;01min\u001b[39;00m mode:\n\u001b[0;32m   1879\u001b[0m         mode \u001b[38;5;241m+\u001b[39m\u001b[38;5;241m=\u001b[39m \u001b[38;5;124m\"\u001b[39m\u001b[38;5;124mb\u001b[39m\u001b[38;5;124m\"\u001b[39m\n\u001b[1;32m-> 1880\u001b[0m \u001b[38;5;28mself\u001b[39m\u001b[38;5;241m.\u001b[39mhandles \u001b[38;5;241m=\u001b[39m get_handle(\n\u001b[0;32m   1881\u001b[0m     f,\n\u001b[0;32m   1882\u001b[0m     mode,\n\u001b[0;32m   1883\u001b[0m     encoding\u001b[38;5;241m=\u001b[39m\u001b[38;5;28mself\u001b[39m\u001b[38;5;241m.\u001b[39moptions\u001b[38;5;241m.\u001b[39mget(\u001b[38;5;124m\"\u001b[39m\u001b[38;5;124mencoding\u001b[39m\u001b[38;5;124m\"\u001b[39m, \u001b[38;5;28;01mNone\u001b[39;00m),\n\u001b[0;32m   1884\u001b[0m     compression\u001b[38;5;241m=\u001b[39m\u001b[38;5;28mself\u001b[39m\u001b[38;5;241m.\u001b[39moptions\u001b[38;5;241m.\u001b[39mget(\u001b[38;5;124m\"\u001b[39m\u001b[38;5;124mcompression\u001b[39m\u001b[38;5;124m\"\u001b[39m, \u001b[38;5;28;01mNone\u001b[39;00m),\n\u001b[0;32m   1885\u001b[0m     memory_map\u001b[38;5;241m=\u001b[39m\u001b[38;5;28mself\u001b[39m\u001b[38;5;241m.\u001b[39moptions\u001b[38;5;241m.\u001b[39mget(\u001b[38;5;124m\"\u001b[39m\u001b[38;5;124mmemory_map\u001b[39m\u001b[38;5;124m\"\u001b[39m, \u001b[38;5;28;01mFalse\u001b[39;00m),\n\u001b[0;32m   1886\u001b[0m     is_text\u001b[38;5;241m=\u001b[39mis_text,\n\u001b[0;32m   1887\u001b[0m     errors\u001b[38;5;241m=\u001b[39m\u001b[38;5;28mself\u001b[39m\u001b[38;5;241m.\u001b[39moptions\u001b[38;5;241m.\u001b[39mget(\u001b[38;5;124m\"\u001b[39m\u001b[38;5;124mencoding_errors\u001b[39m\u001b[38;5;124m\"\u001b[39m, \u001b[38;5;124m\"\u001b[39m\u001b[38;5;124mstrict\u001b[39m\u001b[38;5;124m\"\u001b[39m),\n\u001b[0;32m   1888\u001b[0m     storage_options\u001b[38;5;241m=\u001b[39m\u001b[38;5;28mself\u001b[39m\u001b[38;5;241m.\u001b[39moptions\u001b[38;5;241m.\u001b[39mget(\u001b[38;5;124m\"\u001b[39m\u001b[38;5;124mstorage_options\u001b[39m\u001b[38;5;124m\"\u001b[39m, \u001b[38;5;28;01mNone\u001b[39;00m),\n\u001b[0;32m   1889\u001b[0m )\n\u001b[0;32m   1890\u001b[0m \u001b[38;5;28;01massert\u001b[39;00m \u001b[38;5;28mself\u001b[39m\u001b[38;5;241m.\u001b[39mhandles \u001b[38;5;129;01mis\u001b[39;00m \u001b[38;5;129;01mnot\u001b[39;00m \u001b[38;5;28;01mNone\u001b[39;00m\n\u001b[0;32m   1891\u001b[0m f \u001b[38;5;241m=\u001b[39m \u001b[38;5;28mself\u001b[39m\u001b[38;5;241m.\u001b[39mhandles\u001b[38;5;241m.\u001b[39mhandle\n",
      "File \u001b[1;32m~\\anaconda3\\Lib\\site-packages\\pandas\\io\\common.py:873\u001b[0m, in \u001b[0;36mget_handle\u001b[1;34m(path_or_buf, mode, encoding, compression, memory_map, is_text, errors, storage_options)\u001b[0m\n\u001b[0;32m    868\u001b[0m \u001b[38;5;28;01melif\u001b[39;00m \u001b[38;5;28misinstance\u001b[39m(handle, \u001b[38;5;28mstr\u001b[39m):\n\u001b[0;32m    869\u001b[0m     \u001b[38;5;66;03m# Check whether the filename is to be opened in binary mode.\u001b[39;00m\n\u001b[0;32m    870\u001b[0m     \u001b[38;5;66;03m# Binary mode does not support 'encoding' and 'newline'.\u001b[39;00m\n\u001b[0;32m    871\u001b[0m     \u001b[38;5;28;01mif\u001b[39;00m ioargs\u001b[38;5;241m.\u001b[39mencoding \u001b[38;5;129;01mand\u001b[39;00m \u001b[38;5;124m\"\u001b[39m\u001b[38;5;124mb\u001b[39m\u001b[38;5;124m\"\u001b[39m \u001b[38;5;129;01mnot\u001b[39;00m \u001b[38;5;129;01min\u001b[39;00m ioargs\u001b[38;5;241m.\u001b[39mmode:\n\u001b[0;32m    872\u001b[0m         \u001b[38;5;66;03m# Encoding\u001b[39;00m\n\u001b[1;32m--> 873\u001b[0m         handle \u001b[38;5;241m=\u001b[39m \u001b[38;5;28mopen\u001b[39m(\n\u001b[0;32m    874\u001b[0m             handle,\n\u001b[0;32m    875\u001b[0m             ioargs\u001b[38;5;241m.\u001b[39mmode,\n\u001b[0;32m    876\u001b[0m             encoding\u001b[38;5;241m=\u001b[39mioargs\u001b[38;5;241m.\u001b[39mencoding,\n\u001b[0;32m    877\u001b[0m             errors\u001b[38;5;241m=\u001b[39merrors,\n\u001b[0;32m    878\u001b[0m             newline\u001b[38;5;241m=\u001b[39m\u001b[38;5;124m\"\u001b[39m\u001b[38;5;124m\"\u001b[39m,\n\u001b[0;32m    879\u001b[0m         )\n\u001b[0;32m    880\u001b[0m     \u001b[38;5;28;01melse\u001b[39;00m:\n\u001b[0;32m    881\u001b[0m         \u001b[38;5;66;03m# Binary mode\u001b[39;00m\n\u001b[0;32m    882\u001b[0m         handle \u001b[38;5;241m=\u001b[39m \u001b[38;5;28mopen\u001b[39m(handle, ioargs\u001b[38;5;241m.\u001b[39mmode)\n",
      "\u001b[1;31mFileNotFoundError\u001b[0m: [Errno 2] No such file or directory: 'C:/Users/Giuseppe/3_PYTHON/FILE_ESERC_CSV/facebook.csv'"
     ]
    }
   ],
   "source": [
    "filepath = \"C:/Users/Giuseppe/3_PYTHON/FILE_ESERC_CSV/facebook.csv\" \n",
    "fac = pd.read_csv(filepath)   #Ci siamo connessi alla tabella Facebook #"
   ]
  },
  {
   "cell_type": "code",
   "execution_count": null,
   "id": "c6778b77-8edb-48b7-b332-2570378ca574",
   "metadata": {},
   "outputs": [],
   "source": [
    "fac # Dal beginner_datasets estraiamo il file facebook.csv....#"
   ]
  },
  {
   "cell_type": "code",
   "execution_count": null,
   "id": "469da51c-d04a-427d-b004-18a704aa1e92",
   "metadata": {},
   "outputs": [],
   "source": [
    "fac['status_published'] = pd.to_datetime(fac['status_published'], format='%m/%d/%Y %H:%M')"
   ]
  },
  {
   "cell_type": "code",
   "execution_count": null,
   "id": "a1dc0409-529b-4d66-a796-af906f1d5a10",
   "metadata": {},
   "outputs": [],
   "source": [
    "fac['status_published'] #... convertiamo la colonna 'status_published' in formato Timestamp ...'"
   ]
  },
  {
   "cell_type": "code",
   "execution_count": null,
   "id": "0c1a645b-d5f7-475b-84ec-b31b02a1426f",
   "metadata": {},
   "outputs": [],
   "source": [
    "fac['status_published'] = fac['status_published'].dt.strftime('%d-%m-%y') #utilizzando il metodo .df.strftime formatta\n",
    "fac                                                                   # le date delle pubblicazioni ...#"
   ]
  },
  {
   "cell_type": "code",
   "execution_count": null,
   "id": "607a7d27-ea7a-4f00-903a-cbd2a7ea0c02",
   "metadata": {},
   "outputs": [],
   "source": [
    "fac['status_published'] = pd.to_datetime(fac.status_published)\n",
    "fac['Year'] = fac['status_published'].dt.year\n",
    "fac['Year'] #Utilizzando gli attributi .dt.year - .dt.month ecc....otteniamo delle informazioni ...# "
   ]
  },
  {
   "cell_type": "code",
   "execution_count": null,
   "id": "0089bb23-9212-440a-8b77-e2508d2251b9",
   "metadata": {},
   "outputs": [],
   "source": [
    "fac['Month'] = fac['status_published'].dt.month\n",
    "fac['Month']"
   ]
  },
  {
   "cell_type": "code",
   "execution_count": null,
   "id": "dae947f4-c6c9-4aa8-81a9-c695f09d9115",
   "metadata": {},
   "outputs": [],
   "source": [
    "fac['Day'] = fac['status_published'].dt.day\n",
    "fac['Day']"
   ]
  },
  {
   "cell_type": "code",
   "execution_count": null,
   "id": "7419aa72-83ea-4ba1-89a1-5de05215f29e",
   "metadata": {},
   "outputs": [],
   "source": [
    "fac['Year'] = fac['status_published'].dt.year"
   ]
  },
  {
   "cell_type": "code",
   "execution_count": null,
   "id": "4bd03667-b580-488b-9dcb-60c9ebe6f053",
   "metadata": {},
   "outputs": [],
   "source": [
    "d=fac['Year']==2012 #Estraiamo solo i post relativi al 2012 ...]\n",
    "d.value_counts()"
   ]
  },
  {
   "cell_type": "code",
   "execution_count": null,
   "id": "e959d724-8890-47d4-84aa-5f6f7d760bb8",
   "metadata": {},
   "outputs": [],
   "source": [
    "fac_filtrato=fac[d]"
   ]
  },
  {
   "cell_type": "code",
   "execution_count": null,
   "id": "f8b9551a-2472-4a77-a6d9-66334629ba4a",
   "metadata": {},
   "outputs": [],
   "source": [
    "fac_filtrato"
   ]
  },
  {
   "cell_type": "code",
   "execution_count": null,
   "id": "1745bd19-e4d0-48ea-93a8-f4821c2434f6",
   "metadata": {},
   "outputs": [],
   "source": [
    "filtro = (fac['status_published'].dt.year == 2018) & (fac['status_published'].dt.month == 5)\n",
    "fac_filtrato = fac[filtro]  #Solo i post relativi a Maggio 2018  #"
   ]
  },
  {
   "cell_type": "code",
   "execution_count": null,
   "id": "720cbb9e-a56e-4c38-a2c4-1e5cd9e90868",
   "metadata": {},
   "outputs": [],
   "source": [
    "fac_filtrato"
   ]
  },
  {
   "cell_type": "code",
   "execution_count": null,
   "id": "272558a1-9f1a-408a-bdb0-accd613833c4",
   "metadata": {},
   "outputs": [],
   "source": [
    "fac['WeekDay']=fac['status_published'].dt.dayofweek #Confrontiamo il numero di post... nel weekend #"
   ]
  },
  {
   "cell_type": "code",
   "execution_count": null,
   "id": "f6abeed9-cb8a-4e7e-9c56-1a9967c58357",
   "metadata": {},
   "outputs": [],
   "source": [
    "fac['WeekDay'] "
   ]
  },
  {
   "cell_type": "code",
   "execution_count": null,
   "id": "b62eb5e0-75b6-414b-aaf4-f8f9d3daba43",
   "metadata": {},
   "outputs": [],
   "source": [
    "filtro = (fac['status_published'].dt.dayofweek == 5) | (fac['status_published'].dt.dayofweek == 6)\n",
    "fac_weekend = fac[filtro]  #Solo i post relativi del week end  #"
   ]
  },
  {
   "cell_type": "code",
   "execution_count": null,
   "id": "9e41f882-5f7e-4529-9d64-1e060b51424d",
   "metadata": {},
   "outputs": [],
   "source": [
    "fac['status_published'].dt.dayofweek == 5  #Applico un filtro per il Sabato #"
   ]
  },
  {
   "cell_type": "code",
   "execution_count": null,
   "id": "032e9fb0-fcea-42a7-ba39-e03cc57c8a9d",
   "metadata": {},
   "outputs": [],
   "source": [
    "fac['status_published'].dt.dayofweek == 6 #Applico un filtro per la Domenica #"
   ]
  },
  {
   "cell_type": "code",
   "execution_count": null,
   "id": "e3cd65fe-97d8-4e04-9a87-304043d284d5",
   "metadata": {},
   "outputs": [],
   "source": [
    "fac_weekend"
   ]
  },
  {
   "cell_type": "code",
   "execution_count": null,
   "id": "5829b51b-3acc-45b1-9156-2bee6312796d",
   "metadata": {},
   "outputs": [],
   "source": [
    "filtro2 = (fac['status_published'].dt.dayofweek != 5) & (fac['status_published'].dt.dayofweek != 6)\n",
    "fac_wor_day = fac[filtro2]  #Solo i post dei giorni feriali  #"
   ]
  },
  {
   "cell_type": "code",
   "execution_count": null,
   "id": "53788704-1dc6-4b4b-b32d-3d6fc94503af",
   "metadata": {},
   "outputs": [],
   "source": [
    "fac_wor_day"
   ]
  },
  {
   "cell_type": "code",
   "execution_count": null,
   "id": "66128f45-1df3-4564-b768-82028aa97516",
   "metadata": {},
   "outputs": [],
   "source": [
    "x=filtro.sum()\n",
    "y=filtro2.sum()\n",
    "print(f'Il numero di post nel week sono stati : {x} \\nIl numero di post nei giorni feriali sono stati : {y}')"
   ]
  },
  {
   "cell_type": "code",
   "execution_count": null,
   "id": "6afb34e4-903b-43c6-8d59-909147d6d336",
   "metadata": {},
   "outputs": [],
   "source": [
    "fac.describe() #Troviamo il primo e l'ultimo post pubblicati per ogni anno.. vediamo max e min del db #"
   ]
  },
  {
   "cell_type": "code",
   "execution_count": null,
   "id": "5fb8f905-cdf8-4b8c-b427-1fc2a03b260c",
   "metadata": {},
   "outputs": [],
   "source": [
    "d=fac['Year']==2012 #i post vanno dal 2012 al 2018 #"
   ]
  },
  {
   "cell_type": "code",
   "execution_count": null,
   "id": "9c2e5502-d7b1-45df-ab66-d54240aadfd2",
   "metadata": {},
   "outputs": [],
   "source": [
    "for anno, gruppo in fac.groupby(fac['status_published'].dt.year):\n",
    "    P_riga = gruppo.iloc[0]\n",
    "    U_riga = gruppo.iloc[-1]\n",
    "    print('--------------')\n",
    "    print(f'Anno {anno}')\n",
    "    print('Prima riga:')\n",
    "    print(P_riga)\n",
    "    print(                )\n",
    "    print('Ultima riga:')\n",
    "    print(U_riga)"
   ]
  },
  {
   "cell_type": "code",
   "execution_count": null,
   "id": "216aab7a-3762-4616-95e5-6ddf57a9d5ce",
   "metadata": {},
   "outputs": [],
   "source": [
    "#Utilizzando il metodo tz.localize(), aggiungendo un fuso orario alle date delle transazioni ...#"
   ]
  },
  {
   "cell_type": "code",
   "execution_count": null,
   "id": "3156a393-c807-4a35-8071-6a022034731c",
   "metadata": {},
   "outputs": [],
   "source": [
    "fac['status_published'].info() #verifico il formato della colonna 'status_published' è un object#"
   ]
  },
  {
   "cell_type": "code",
   "execution_count": null,
   "id": "9161d8b5-61e9-4e3e-980a-3b99102846c5",
   "metadata": {},
   "outputs": [],
   "source": [
    "fac['status_published']=pd.to_datetime(fac.status_published) #lo modifico in datetime#"
   ]
  },
  {
   "cell_type": "code",
   "execution_count": null,
   "id": "82836e59-e6eb-4ea2-993b-c225a939d528",
   "metadata": {},
   "outputs": [],
   "source": [
    "fac['status_published'].info() #verifico il formato della colonna 'status_published' adesso è un Datetime#"
   ]
  },
  {
   "cell_type": "code",
   "execution_count": null,
   "id": "47655e9e-eb87-44ae-b4e8-09868c74cc08",
   "metadata": {},
   "outputs": [],
   "source": [
    "fac.status_published.loc[0]-fac.status_published.loc[22] #Adesso posso calcolare la differenza tra due date#"
   ]
  },
  {
   "cell_type": "code",
   "execution_count": null,
   "id": "ca82659a-787f-476d-a265-89cf0b14f5ef",
   "metadata": {},
   "outputs": [],
   "source": [
    "f_status_type=fac.groupby('status_type').size()"
   ]
  },
  {
   "cell_type": "code",
   "execution_count": null,
   "id": "d8721f88-08d1-4da4-9d07-32e563c59be3",
   "metadata": {},
   "outputs": [],
   "source": [
    "f_status_type.sort_values(ascending=False)"
   ]
  },
  {
   "cell_type": "code",
   "execution_count": null,
   "id": "3741e507-bce4-43dc-bba2-1e6720450a73",
   "metadata": {},
   "outputs": [],
   "source": [
    "filepath = \"C:/Users/Giuseppe/3_PYTHON/FILE_ESERC_CSV/pokemon.csv\"\n",
    "pok = pd.read_csv(filepath)  #Carichiamo il dataset Pokemon #"
   ]
  },
  {
   "cell_type": "code",
   "execution_count": null,
   "id": "f0599671-4700-4dc2-8c90-0ac2113f8d87",
   "metadata": {},
   "outputs": [],
   "source": [
    "pok"
   ]
  },
  {
   "cell_type": "code",
   "execution_count": null,
   "id": "4b49c724-35f0-482c-a344-7d18383e3914",
   "metadata": {},
   "outputs": [],
   "source": [
    "#Tramite i metodi .isnull() e .sum() controlliamo se ci sono valori nulli nel dataset e contiamo quanti valori nulli#\n",
    "#ci sono in ogni colonna#"
   ]
  },
  {
   "cell_type": "code",
   "execution_count": null,
   "id": "9aede0ca-44bb-4457-ac49-eb72f4d5c484",
   "metadata": {},
   "outputs": [],
   "source": [
    "pok.isnull().sum() #...questo perchè i boleani corrispondono al valore 0 se falso ed 1 se vero# "
   ]
  },
  {
   "cell_type": "code",
   "execution_count": null,
   "id": "88bf6656-6436-48f8-adf8-8ce28cd81984",
   "metadata": {},
   "outputs": [],
   "source": [
    "#si ci sono valori nulli solo nella colonna 'Type 2' #"
   ]
  },
  {
   "cell_type": "code",
   "execution_count": null,
   "id": "2ed64c8e-3c46-4ecb-bfc1-636f71d41817",
   "metadata": {},
   "outputs": [],
   "source": [
    "pok['Type 2']"
   ]
  },
  {
   "cell_type": "code",
   "execution_count": null,
   "id": "3b21d706-42bd-4ade-bb87-1ab9f7d1b9d1",
   "metadata": {},
   "outputs": [],
   "source": [
    "pok"
   ]
  },
  {
   "cell_type": "code",
   "execution_count": null,
   "id": "64083db1-9c49-42bf-b210-922b5def9f18",
   "metadata": {},
   "outputs": [],
   "source": [
    "pok['Type 2'].value_counts()"
   ]
  },
  {
   "cell_type": "code",
   "execution_count": null,
   "id": "88ae01ad-d0a8-4c5f-9b9b-56c4a8a9fc09",
   "metadata": {},
   "outputs": [],
   "source": [
    "a=pok['Name']=='Mankey' #non ha senso riempirli perchè si riferiscono a caratteristiche/poteri che il pokemon può avere #\n",
    "pok[a]                  # o meno ... #"
   ]
  },
  {
   "cell_type": "code",
   "execution_count": null,
   "id": "6a978f4c-34ff-4664-bc00-6191d2f0f782",
   "metadata": {},
   "outputs": [],
   "source": [
    "#non possono essere eliminate le righe contenenti valori nulli perchè verrebbero 386 pokemon su 800 #"
   ]
  },
  {
   "cell_type": "code",
   "execution_count": null,
   "id": "25c3b10b-f4cf-4d88-8886-c89a94deaf6f",
   "metadata": {},
   "outputs": [],
   "source": [
    "# ... carichiamo il dataset automobile.csv ...#"
   ]
  },
  {
   "cell_type": "code",
   "execution_count": null,
   "id": "57f9cdb2-77d4-47af-8f19-34d45c9cf9d5",
   "metadata": {},
   "outputs": [],
   "source": [
    "filepath = \"C:/Users/Giuseppe/3_PYTHON/FILE_ESERC_CSV/automobile.csv\"\n",
    "auto = pd.read_csv(filepath)  #Carichiamo il dataset automobile #"
   ]
  },
  {
   "cell_type": "code",
   "execution_count": null,
   "id": "351ec765-db18-4ee5-898b-6ad29b7196e8",
   "metadata": {},
   "outputs": [],
   "source": [
    "auto.isnull().sum() # ... ci sono valori nulli? dove? Quanti?"
   ]
  },
  {
   "cell_type": "code",
   "execution_count": null,
   "id": "f98a4577-d0b5-4fe4-ae46-e1ef94c246a8",
   "metadata": {},
   "outputs": [],
   "source": [
    "a_null=auto.loc[:,'num-of-doors'].isnull() #con questo mi ricavo i valori boleani della colonna 'num-of-doors' ... per poi fare#\n",
    "auto[a_null]                                    #un filtro ...e ricavarmi le righe che hanno il valore nullo #"
   ]
  },
  {
   "cell_type": "code",
   "execution_count": null,
   "id": "6850dc3f-a184-4760-ab47-8c547ed21052",
   "metadata": {},
   "outputs": [],
   "source": [
    "n_dx_body_loc=auto.groupby('body-style')['num-of-doors'].value_counts()"
   ]
  },
  {
   "cell_type": "code",
   "execution_count": null,
   "id": "1a59c191-a178-4a19-b2d4-ae3ad95a8bfa",
   "metadata": {},
   "outputs": [],
   "source": [
    "n_dx_body_loc"
   ]
  },
  {
   "cell_type": "code",
   "execution_count": null,
   "id": "b6304523-7d98-44e7-a805-a75a95bcf690",
   "metadata": {},
   "outputs": [],
   "source": [
    "n_dx_eng_loc=auto.groupby('engine-location')['num-of-doors'].value_counts()"
   ]
  },
  {
   "cell_type": "code",
   "execution_count": null,
   "id": "81d1e8a7-2430-4197-88f7-739ada7396b2",
   "metadata": {},
   "outputs": [],
   "source": [
    "n_dx_eng_loc"
   ]
  },
  {
   "cell_type": "code",
   "execution_count": null,
   "id": "f37d04a3-3112-403c-8818-57254d243627",
   "metadata": {},
   "outputs": [],
   "source": [
    "#Abbiamo il seguente DataFrame che raccoglie le misurazioni di un sensore che misura la temperatura atmosferica giornaliera#\n"
   ]
  },
  {
   "cell_type": "code",
   "execution_count": null,
   "id": "de0fc0d3-2d88-4c2a-b651-a15470d86e29",
   "metadata": {},
   "outputs": [],
   "source": [
    "temp=pd.DataFrame({'Giorno' : [0,1,2,3,4,5,6,\n",
    "                               7,8,9,10,11,12],\n",
    "                   'Temperature': [18,19,18,np.nan,21,20,20,np.nan,21,23,np.nan,23,24]})\n",
    "#Il sensore a volte non funziona ... ci sono dati mancanti qual'è la migliore strategia per gestirli? #\n",
    "                                "
   ]
  },
  {
   "cell_type": "code",
   "execution_count": null,
   "id": "121606df-50ad-4050-9d05-0b5bfeb92dc5",
   "metadata": {},
   "outputs": [],
   "source": [
    "temp"
   ]
  },
  {
   "cell_type": "code",
   "execution_count": null,
   "id": "7ee78a05-57f2-4b0e-bf67-f0b91bb9b6d0",
   "metadata": {},
   "outputs": [],
   "source": [
    "temp.interpolate(method='linear') #Il miglior metodo in questo caso è la f(x) interpolate() #"
   ]
  },
  {
   "cell_type": "code",
   "execution_count": null,
   "id": "f2ea4dfa-f4f4-43e1-af2a-2008d20e6601",
   "metadata": {},
   "outputs": [],
   "source": [
    "#Nel pacchetto os della Standard Library c'è la f(x) os.listdir() ...."
   ]
  },
  {
   "cell_type": "code",
   "execution_count": null,
   "id": "ea272b52-fca6-41ad-a19b-e09977dc2068",
   "metadata": {},
   "outputs": [],
   "source": [
    "import os"
   ]
  },
  {
   "cell_type": "code",
   "execution_count": 62,
   "id": "b83f3c3b-198a-4677-9c61-2ed85fbebe6d",
   "metadata": {},
   "outputs": [
    {
     "data": {
      "text/plain": [
       "['automobile.csv', 'diabetes.csv', 'insurance.csv', 'iris.csv', 'pokemon.csv']"
      ]
     },
     "execution_count": 62,
     "metadata": {},
     "output_type": "execute_result"
    }
   ],
   "source": [
    "CSV_list=os.listdir('C:/Users/Giuseppe/3_PYTHON/FILE_ESERC_CSV')\n",
    "CSV_list"
   ]
  },
  {
   "cell_type": "code",
   "execution_count": 79,
   "id": "28daf28b-8abd-4ccf-a750-4052638fa0c6",
   "metadata": {},
   "outputs": [
    {
     "name": "stdout",
     "output_type": "stream",
     "text": [
      "La lista dei files con valori nulli:['automobile.csv', 'pokemon.csv']\n",
      "La lista dei files con valori non nulli:['diabetes.csv', 'insurance.csv', 'iris.csv']\n"
     ]
    }
   ],
   "source": [
    "CSV_list=os.listdir('C:/Users/Giuseppe/3_PYTHON/FILE_ESERC_CSV')\n",
    "\n",
    "null_ds=[]\n",
    "not_null_ds=[]\n",
    "\n",
    "for ds in CSV_list:\n",
    "    count=0\n",
    "    df = pd.read_csv(f'{\"C:/Users/Giuseppe/3_PYTHON/FILE_ESERC_CSV\"}/{ds}')\n",
    "    x=df.isna().sum()\n",
    "    tot_x = x.sum()\n",
    "    if tot_x>0 :\n",
    "        null_ds.append(ds)\n",
    "    else : \n",
    "        not_null_ds.append(ds)\n",
    "        \n",
    "print(f'La lista dei files con valori nulli:{null_ds}')\n",
    "\n",
    "print(f'La lista dei files con valori non nulli:{not_null_ds}')"
   ]
  },
  {
   "cell_type": "code",
   "execution_count": null,
   "id": "a02aac26-07e8-469a-9791-20c0fb676bd1",
   "metadata": {},
   "outputs": [],
   "source": []
  }
 ],
 "metadata": {
  "kernelspec": {
   "display_name": "Python 3 (ipykernel)",
   "language": "python",
   "name": "python3"
  },
  "language_info": {
   "codemirror_mode": {
    "name": "ipython",
    "version": 3
   },
   "file_extension": ".py",
   "mimetype": "text/x-python",
   "name": "python",
   "nbconvert_exporter": "python",
   "pygments_lexer": "ipython3",
   "version": "3.12.7"
  }
 },
 "nbformat": 4,
 "nbformat_minor": 5
}
