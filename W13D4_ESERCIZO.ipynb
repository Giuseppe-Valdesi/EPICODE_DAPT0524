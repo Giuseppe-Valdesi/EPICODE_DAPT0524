{
 "cells": [
  {
   "cell_type": "code",
   "execution_count": 1,
   "id": "e8790e56-12ce-4694-9d03-558d50361b81",
   "metadata": {},
   "outputs": [],
   "source": [
    "#Bisogna stampare della variabile nome_scuola='Epicode' ogni lettera usando un ciclo while"
   ]
  },
  {
   "cell_type": "code",
   "execution_count": 2,
   "id": "701cd13e-3119-43bc-99f7-62bc3125a852",
   "metadata": {},
   "outputs": [
    {
     "name": "stdout",
     "output_type": "stream",
     "text": [
      "E\n",
      "p\n",
      "i\n",
      "c\n",
      "o\n",
      "d\n",
      "e\n"
     ]
    }
   ],
   "source": [
    "nome_scuola='Epicode'\n",
    "lettera=0\n",
    "while lettera<len(nome_scuola):\n",
    "    print(nome_scuola [lettera])\n",
    "    lettera+=1"
   ]
  },
  {
   "cell_type": "code",
   "execution_count": 3,
   "id": "a196e284-0d9d-409e-8784-24900e0c73b6",
   "metadata": {},
   "outputs": [],
   "source": [
    "# Stampare a Video tutti i nuneri da 0 a 20 utilizzando il costrutto While#"
   ]
  },
  {
   "cell_type": "code",
   "execution_count": 4,
   "id": "a279aeed-1776-47b9-b0a1-7f23b5ae1f75",
   "metadata": {},
   "outputs": [
    {
     "name": "stdout",
     "output_type": "stream",
     "text": [
      "0\n",
      "1\n",
      "2\n",
      "3\n",
      "4\n",
      "5\n",
      "6\n",
      "7\n",
      "8\n",
      "9\n",
      "10\n",
      "11\n",
      "12\n",
      "13\n",
      "14\n",
      "15\n",
      "16\n",
      "17\n",
      "18\n",
      "19\n",
      "20\n"
     ]
    }
   ],
   "source": [
    "numero=0\n",
    "while numero<21:\n",
    "    print(numero)\n",
    "    numero+=1"
   ]
  },
  {
   "cell_type": "code",
   "execution_count": 5,
   "id": "94e1db92-b194-47da-98db-18f6f9723ccd",
   "metadata": {},
   "outputs": [],
   "source": [
    "#Calcolare e stampare tutte le prime 10 potenze di 2 utilizzanod un ciclo while#"
   ]
  },
  {
   "cell_type": "code",
   "execution_count": 6,
   "id": "023a9138-a307-4361-9405-71683ea78822",
   "metadata": {},
   "outputs": [
    {
     "name": "stdout",
     "output_type": "stream",
     "text": [
      "La potenza di  {2}  elevata a  {0}  è uguale a  1\n",
      "La potenza di  {2}  elevata a  {1}  è uguale a  2\n",
      "La potenza di  {2}  elevata a  {2}  è uguale a  4\n",
      "La potenza di  {2}  elevata a  {3}  è uguale a  8\n",
      "La potenza di  {2}  elevata a  {4}  è uguale a  16\n",
      "La potenza di  {2}  elevata a  {5}  è uguale a  32\n",
      "La potenza di  {2}  elevata a  {6}  è uguale a  64\n",
      "La potenza di  {2}  elevata a  {7}  è uguale a  128\n",
      "La potenza di  {2}  elevata a  {8}  è uguale a  256\n",
      "La potenza di  {2}  elevata a  {9}  è uguale a  512\n",
      "La potenza di  {2}  elevata a  {10}  è uguale a  1024\n"
     ]
    }
   ],
   "source": [
    "esponente=0\n",
    "base=2\n",
    "while esponente<11:\n",
    "    print(f'La potenza di ', {base}, ' elevata a ', {esponente}, ' è uguale a ', base**esponente)\n",
    "    esponente +=1"
   ]
  },
  {
   "cell_type": "code",
   "execution_count": 7,
   "id": "5d6f8a1b-ec05-4efa-8e0e-9762bcd71cde",
   "metadata": {},
   "outputs": [],
   "source": [
    "#Calcolare e stampare tutte le prime N potenze di 2 utilizzando un ciclo while, domandando all'utente di inserire N #"
   ]
  },
  {
   "cell_type": "code",
   "execution_count": null,
   "id": "98722a7c-4d1b-4337-9ac5-b1e2449897b0",
   "metadata": {},
   "outputs": [],
   "source": []
  },
  {
   "cell_type": "code",
   "execution_count": null,
   "id": "705cd873-cdcc-444b-87c7-0b38be78b3e1",
   "metadata": {},
   "outputs": [],
   "source": []
  },
  {
   "cell_type": "code",
   "execution_count": 8,
   "id": "00b8194a-9c8c-4c6b-a528-d0e3e91b748a",
   "metadata": {},
   "outputs": [
    {
     "name": "stdin",
     "output_type": "stream",
     "text": [
      "Quale deve essere il max. esponente? 5\n"
     ]
    },
    {
     "name": "stdout",
     "output_type": "stream",
     "text": [
      "La potenza di  2  elevata a  0  è uguale a  1\n",
      "La potenza di  2  elevata a  1  è uguale a  2\n",
      "La potenza di  2  elevata a  2  è uguale a  4\n",
      "La potenza di  2  elevata a  3  è uguale a  8\n",
      "La potenza di  2  elevata a  4  è uguale a  16\n",
      "La potenza di  2  elevata a  5  è uguale a  32\n"
     ]
    }
   ],
   "source": [
    "esponente=0\n",
    "base=2\n",
    "max_esponente = int(input('Quale deve essere il max. esponente?'))\n",
    "while esponente<=max_esponente :\n",
    "    print(f'La potenza di ', base, ' elevata a ', esponente,' è uguale a ', base**esponente)\n",
    "    esponente +=1"
   ]
  },
  {
   "cell_type": "code",
   "execution_count": 9,
   "id": "ecaf7ba9-94e1-45e4-8246-a58903444243",
   "metadata": {},
   "outputs": [],
   "source": [
    "#Calcolare e stampare tutte le potenze di 2 minori di 25000#"
   ]
  },
  {
   "cell_type": "code",
   "execution_count": 10,
   "id": "2f173085-c9e4-4746-8806-7aeb8bb711d3",
   "metadata": {},
   "outputs": [
    {
     "name": "stdout",
     "output_type": "stream",
     "text": [
      "La potenza di  2  elevata a  0  è uguale a  1\n",
      "La potenza di  2  elevata a  1  è uguale a  2\n",
      "La potenza di  2  elevata a  2  è uguale a  4\n",
      "La potenza di  2  elevata a  3  è uguale a  8\n",
      "La potenza di  2  elevata a  4  è uguale a  16\n",
      "La potenza di  2  elevata a  5  è uguale a  32\n",
      "La potenza di  2  elevata a  6  è uguale a  64\n",
      "La potenza di  2  elevata a  7  è uguale a  128\n",
      "La potenza di  2  elevata a  8  è uguale a  256\n",
      "La potenza di  2  elevata a  9  è uguale a  512\n",
      "La potenza di  2  elevata a  10  è uguale a  1024\n",
      "La potenza di  2  elevata a  11  è uguale a  2048\n",
      "La potenza di  2  elevata a  12  è uguale a  4096\n",
      "La potenza di  2  elevata a  13  è uguale a  8192\n",
      "La potenza di  2  elevata a  14  è uguale a  16384\n"
     ]
    }
   ],
   "source": [
    "esponente=0\n",
    "base=2\n",
    "while base**esponente<25000 :\n",
    "    risultato = base**esponente\n",
    "    print(f'La potenza di ', base, ' elevata a ', esponente,' è uguale a ', risultato)\n",
    "    esponente +=1"
   ]
  },
  {
   "cell_type": "code",
   "execution_count": 11,
   "id": "2195c15d-2219-4467-b07a-dad436a0ec57",
   "metadata": {},
   "outputs": [],
   "source": [
    "#Abbiamo due liste una di studenti e una di corsi#"
   ]
  },
  {
   "cell_type": "code",
   "execution_count": 12,
   "id": "d561ba1a-968a-4723-8046-0a5ed69dba58",
   "metadata": {},
   "outputs": [],
   "source": [
    "studenti = ['Alex', 'Bob', 'Cindy', 'Dan', 'Emma', 'Faith', 'Grace', 'Henry']\n",
    "corsi = ['Cybersecurity', 'Data Analyst', 'Backend', 'Frontend', 'Data Analyst', 'Backend']"
   ]
  },
  {
   "cell_type": "code",
   "execution_count": 13,
   "id": "cadc1304-3c5a-439b-a23a-adf459d02718",
   "metadata": {},
   "outputs": [],
   "source": [
    "#Aggiungere i dati mancanti alla lista corsi, sapendo che Emma segue Data Analyst Faith segue Backend Grace segue Frontend#\n",
    "#Henry segue Cybersecurity  per far si che ai nomi delle liste corrispondano i singoli corsi devo aggiungere per gli ultimi#\n",
    "#corsisti il relativo corso #"
   ]
  },
  {
   "cell_type": "code",
   "execution_count": 14,
   "id": "7e355789-1ea0-4fd8-9ad0-aef57c0c28fa",
   "metadata": {},
   "outputs": [
    {
     "name": "stdout",
     "output_type": "stream",
     "text": [
      "['Alex', 'Bob', 'Cindy', 'Dan', 'Emma', 'Faith', 'Grace', 'Henry']\n",
      "il numero degli alunni è \n",
      "8\n",
      "['Cybersecurity', 'Data Analyst', 'Backend', 'Frontend', 'Data Analyst', 'Backend']\n",
      "il numero dei corsi è \n",
      "6\n"
     ]
    }
   ],
   "source": [
    "print (studenti, 'il numero degli alunni è ' , len(studenti), sep='\\n')\n",
    "print (corsi, 'il numero dei corsi è ', len(corsi), sep='\\n')"
   ]
  },
  {
   "cell_type": "code",
   "execution_count": 15,
   "id": "247e93ac-1bad-455b-83f6-6245a92cf1d2",
   "metadata": {},
   "outputs": [
    {
     "name": "stdout",
     "output_type": "stream",
     "text": [
      "['Alex', 'Bob', 'Cindy', 'Dan', 'Emma', 'Faith', 'Grace', 'Henry']\n",
      "il numero degli alunni è \n",
      "8\n",
      "['Cybersecurity', 'Data Analyst', 'Backend', 'Frontend', 'Data Analyst', 'Backend', 'Frontend', 'Cybersecurity']\n",
      "il numero dei corsi è \n",
      "8\n"
     ]
    }
   ],
   "source": [
    "corsi.append('Frontend')\n",
    "corsi.append('Cybersecurity')\n",
    "print (studenti, 'il numero degli alunni è ' , len(studenti), sep='\\n')\n",
    "print (corsi, 'il numero dei corsi è ', len(corsi), sep='\\n')"
   ]
  },
  {
   "cell_type": "code",
   "execution_count": 16,
   "id": "badb5718-15d1-48e5-a453-061f2d762d18",
   "metadata": {},
   "outputs": [],
   "source": [
    "#Scriviamo un programma che chiede in input all'utente una stringa e visualizza i primi 3 caratteri,#\n",
    "#seguiti da 3 punti di sospensione e quindi gli ultimi 3 caratteri, similmente....#\n",
    "#Stavolta facciamo attenzione a tutti i casi particolari, ovvero implementare soluzione ad hoc per stringhe di lunghezza #\n",
    "# a 6 caratteri#"
   ]
  },
  {
   "cell_type": "markdown",
   "id": "c4ca66ae-f66f-4bde-a4eb-e7cfe1419f6b",
   "metadata": {},
   "source": [
    "#### a = input('La mia Frase è :')\n",
    "if len(a)<6:\n",
    "    print (a[:3], '...')\n",
    "else:\n",
    "    print (a[:3], '...', a[-3:])"
   ]
  },
  {
   "cell_type": "code",
   "execution_count": 18,
   "id": "8ae56f80-bb5f-4bdf-9b44-bdde2f91d563",
   "metadata": {},
   "outputs": [],
   "source": [
    "#Memorizza e stampa tutti i fattori di un numero dato in input#"
   ]
  },
  {
   "cell_type": "markdown",
   "id": "70acf431-1fc2-4e6a-aa80-87514bf2b210",
   "metadata": {},
   "source": [
    "##### a = int(input('Il mio numero è ...'))\n",
    "fattori = []\n",
    "for i in range (1, a+1):\n",
    "    if a % i == 0 :\n",
    "        fattori.append(i)\n",
    "print('La lista dei fattori del numero ' , a , 'è :', fattori, sep='\\n')  "
   ]
  },
  {
   "cell_type": "code",
   "execution_count": 19,
   "id": "1639e15f-ff27-406b-8d0c-624c6be0bb3f",
   "metadata": {},
   "outputs": [],
   "source": [
    "#Abbiamo la stringa : nome_scuola = 'Epicode' - Stampare ogni carattere della stringa, uno su ogni riga, utilizzando#\n",
    "#un costrutto for. #"
   ]
  },
  {
   "cell_type": "code",
   "execution_count": 20,
   "id": "092e7435-b008-4fa0-b2b1-d6f2b9e54573",
   "metadata": {},
   "outputs": [
    {
     "name": "stdout",
     "output_type": "stream",
     "text": [
      "E \n",
      "\n",
      "p \n",
      "\n",
      "i \n",
      "\n",
      "c \n",
      "\n",
      "o \n",
      "\n",
      "d \n",
      "\n",
      "e \n",
      "\n"
     ]
    }
   ],
   "source": [
    "nome_scuola = 'Epicode'\n",
    "for a in (nome_scuola):\n",
    "    print (a, '\\n')"
   ]
  },
  {
   "cell_type": "code",
   "execution_count": 21,
   "id": "beffec57-ff06-44ec-94ba-60cd51b27ab9",
   "metadata": {},
   "outputs": [],
   "source": [
    "#Calcolare e stampare tutte le prime 10 potenze di 2 utilizzando un ciclo.#"
   ]
  },
  {
   "cell_type": "code",
   "execution_count": 22,
   "id": "73179e9a-b5df-4bb1-bac5-0971f9d2931c",
   "metadata": {},
   "outputs": [
    {
     "name": "stdout",
     "output_type": "stream",
     "text": [
      "la potenza di 2 elevato a 0 'è uguale a : 1\n",
      "la potenza di 2 elevato a 1 'è uguale a : 2\n",
      "la potenza di 2 elevato a 2 'è uguale a : 4\n",
      "la potenza di 2 elevato a 3 'è uguale a : 8\n",
      "la potenza di 2 elevato a 4 'è uguale a : 16\n",
      "la potenza di 2 elevato a 5 'è uguale a : 32\n",
      "la potenza di 2 elevato a 6 'è uguale a : 64\n",
      "la potenza di 2 elevato a 7 'è uguale a : 128\n",
      "la potenza di 2 elevato a 8 'è uguale a : 256\n",
      "la potenza di 2 elevato a 9 'è uguale a : 512\n",
      "la potenza di 2 elevato a 10 'è uguale a : 1024\n"
     ]
    }
   ],
   "source": [
    "esponente = list()\n",
    "num = -1\n",
    "while num <10:\n",
    "        num +=1\n",
    "        esponente.append(num)\n",
    "        risultato = 2**(esponente[num])\n",
    "        print(f\"la potenza di 2 elevato a {esponente[num]} 'è uguale a :\", risultato)     \n"
   ]
  },
  {
   "cell_type": "code",
   "execution_count": 23,
   "id": "99652678-7763-4ff6-8804-0676b56ddb7f",
   "metadata": {},
   "outputs": [],
   "source": [
    "#Calcolare (ma non stampare) le prime N potenze di K; ognuna di esse andrà memorizzata in coda a una lista#\n",
    "#alla fine, stampare la lista risultante.\n",
    "#Proviamo con diversi valori di K, oppure facciamoli inserire all'utente. Realizzare 2 versioni :\n",
    "#- con ciclo while\n",
    "#- con ciclo for #"
   ]
  },
  {
   "cell_type": "code",
   "execution_count": 24,
   "id": "6f3e0bda-78a9-4e07-89e0-befa79874ba7",
   "metadata": {},
   "outputs": [
    {
     "name": "stdin",
     "output_type": "stream",
     "text": [
      "eleva a potenza il numero: 4\n",
      "indicami il max. esponente: 5\n"
     ]
    },
    {
     "name": "stdout",
     "output_type": "stream",
     "text": [
      "Ecco le prime, 5, potenze del numero, 4, [1, 4, 16, 64, 256, 1024]\n"
     ]
    }
   ],
   "source": [
    "a=int(input('eleva a potenza il numero:'))\n",
    "b=int(input('indicami il max. esponente:'))\n",
    "esponenti = list()\n",
    "esponente = 0\n",
    "risultati = list()\n",
    "while esponente <= b:\n",
    "    esponenti.append(esponente)\n",
    "    risultato = a**(esponenti[esponente])\n",
    "    risultati.append(risultato)\n",
    "    esponente +=1\n",
    "print (f\"Ecco le prime, {b}, potenze del numero, {a}, {risultati}\")"
   ]
  },
  {
   "cell_type": "code",
   "execution_count": 50,
   "id": "dcf358fe-2667-4243-a8e5-8460956f4561",
   "metadata": {},
   "outputs": [
    {
     "name": "stdin",
     "output_type": "stream",
     "text": [
      "eleva a potenza il numero: 4\n",
      "indicami il max. esponente: 5\n"
     ]
    },
    {
     "name": "stdout",
     "output_type": "stream",
     "text": [
      "Ecco le prime, 5, potenze del numero, 4, [1, 4, 16, 64, 256, 1024]\n"
     ]
    }
   ],
   "source": [
    "a=int(input('eleva a potenza il numero:'))\n",
    "b=int(input('indicami il max. esponente:'))\n",
    "esponente = 0\n",
    "risultati = list()\n",
    "esponenti = list(range(0, b+1))\n",
    "for esponente in esponenti:\n",
    "        risultato = a**(esponenti[esponente])\n",
    "        risultati.append(risultato)\n",
    "        esponente +=1\n",
    "print (f\"Ecco le prime, {b}, potenze del numero, {a}, {risultati}\")"
   ]
  },
  {
   "cell_type": "markdown",
   "id": "f585de2b-371f-4fff-b69e-cce6361622dc",
   "metadata": {},
   "source": [
    "#Abbiamo una lista con i guadagni degli ultimi 12 mesi .... usando un costrutto for, calcolare la media dei guadagni  e stamparla a video#"
   ]
  },
  {
   "cell_type": "code",
   "execution_count": 26,
   "id": "3519e334-1d15-470b-a44f-bfae11a8ea20",
   "metadata": {},
   "outputs": [
    {
     "name": "stdout",
     "output_type": "stream",
     "text": [
      "la media dei ricavi negli ultimi 12 mesi è :  € 70.0\n"
     ]
    }
   ],
   "source": [
    "guadagni=[100,90,70,40,50,80,90,120,80,20,50,50]\n",
    "ricavo = 0\n",
    "for guadagno in guadagni:\n",
    "    ricavo += guadagno\n",
    "    guadagno +=1\n",
    "media = ricavo / len(guadagni)\n",
    "print (f\"la media dei ricavi negli ultimi 12 mesi è :  € {media}\")\n",
    "\n"
   ]
  },
  {
   "cell_type": "code",
   "execution_count": 27,
   "id": "616626d0-da71-4d73-8c06-b28eca75f4de",
   "metadata": {},
   "outputs": [],
   "source": [
    "#Abbiamo una lista di parole ... stampiamo, per ogni parola, quante volte appare la lettera 'e';#\n",
    "#facciamo attenzione al fatto che appare sia maiuscola che minuscola#"
   ]
  },
  {
   "cell_type": "code",
   "execution_count": 28,
   "id": "1032da7c-0599-4f05-b4d9-123b2cd5cf16",
   "metadata": {},
   "outputs": [
    {
     "name": "stdout",
     "output_type": "stream",
     "text": [
      "nella parola  Albergo ci sono in totale : 1 \n",
      " 1 \"e\" ed 0  \"E\"\n",
      "nella parola  Sedia ci sono in totale : 1 \n",
      " 1 \"e\" ed 0  \"E\"\n",
      "nella parola  Borgo ci sono in totale : 0 \n",
      " 0 \"e\" ed 0  \"E\"\n",
      "nella parola  Petalo ci sono in totale : 1 \n",
      " 1 \"e\" ed 0  \"E\"\n",
      "nella parola  Eremo ci sono in totale : 2 \n",
      " 1 \"e\" ed 1  \"E\"\n",
      "nella parola  Belvedere ci sono in totale : 4 \n",
      " 4 \"e\" ed 0  \"E\"\n",
      "nella parola  Semestre ci sono in totale : 3 \n",
      " 3 \"e\" ed 0  \"E\"\n",
      "nella parola  Esteta ci sono in totale : 2 \n",
      " 1 \"e\" ed 1  \"E\"\n",
      "nella parola  Sosta ci sono in totale : 0 \n",
      " 0 \"e\" ed 0  \"E\"\n",
      "nella parola  Orpello ci sono in totale : 1 \n",
      " 1 \"e\" ed 0  \"E\"\n",
      "nella parola  Abete ci sono in totale : 2 \n",
      " 2 \"e\" ed 0  \"E\"\n",
      "nella parola  Orologio ci sono in totale : 0 \n",
      " 0 \"e\" ed 0  \"E\"\n",
      "nella parola  Cesta ci sono in totale : 1 \n",
      " 1 \"e\" ed 0  \"E\"\n",
      "nella parola  Ermellino ci sono in totale : 2 \n",
      " 1 \"e\" ed 1  \"E\"\n"
     ]
    }
   ],
   "source": [
    "parole = ['Albergo', 'Sedia', 'Borgo', 'Petalo', 'Eremo', 'Belvedere', 'Semestre', 'Esteta', 'Sosta', 'Orpello', 'Abete',\n",
    "          'Orologio', 'Cesta', 'Ermellino']\n",
    "parola = 0 \n",
    "for parola in parole :\n",
    "    e=parola.count('e')\n",
    "    E=parola.count('E')\n",
    "    print('nella parola ', parola, 'ci sono in totale :', e+E, '\\n', e, '\"e\"', 'ed', E, ' \"E\"')\n",
    "  \n",
    "    "
   ]
  },
  {
   "cell_type": "code",
   "execution_count": 29,
   "id": "8122495c-2b22-4545-9791-4e336ed08e66",
   "metadata": {},
   "outputs": [],
   "source": [
    "#Creiamo un dizionario che assegni ad ogni proprietario la sua auto, sapendo che ...Stampiamo il dizionario per intero#\n",
    "# e poi l'auto associata a Debbie#"
   ]
  },
  {
   "cell_type": "code",
   "execution_count": 30,
   "id": "4ae9e84a-813d-4667-9f1f-332293cac753",
   "metadata": {},
   "outputs": [],
   "source": [
    "d={'Ada':'Punto','Ben':'Multipla', 'Charlie':'Golf', 'Debbie':'107'}"
   ]
  },
  {
   "cell_type": "code",
   "execution_count": 31,
   "id": "d8b19672-124e-41d5-a645-d124cc4fe53a",
   "metadata": {},
   "outputs": [
    {
     "name": "stdout",
     "output_type": "stream",
     "text": [
      "{'Ada': 'Punto', 'Ben': 'Multipla', 'Charlie': 'Golf', 'Debbie': '107'}\n"
     ]
    }
   ],
   "source": [
    "print (d)"
   ]
  },
  {
   "cell_type": "code",
   "execution_count": 32,
   "id": "57c07c78-bec5-4288-a5c2-5fc20d5f2756",
   "metadata": {},
   "outputs": [
    {
     "name": "stdout",
     "output_type": "stream",
     "text": [
      "l'auto che guida Debbie è la 107\n"
     ]
    }
   ],
   "source": [
    "print(\"l'auto che guida Debbie è la\", d['Debbie'])"
   ]
  },
  {
   "cell_type": "code",
   "execution_count": 33,
   "id": "5bb45ea0-1e94-48ce-81ae-a3df664bbf2b",
   "metadata": {},
   "outputs": [],
   "source": [
    "#Abbiamo un dizionario che assegna ad ogni proprietario la sua auto ... con un ciclo, e usando il metodo .values()#\n",
    "#stampiamo a video tutte le auto che non sono una Multipla#"
   ]
  },
  {
   "cell_type": "code",
   "execution_count": 34,
   "id": "caaeba69-81e2-49d8-9a1a-7b5225678d19",
   "metadata": {},
   "outputs": [
    {
     "name": "stdout",
     "output_type": "stream",
     "text": [
      "Ada,Punto\n",
      "Charlie,Golf\n",
      "Debbie,107\n"
     ]
    }
   ],
   "source": [
    "d={'Ada':'Punto','Ben':'Multipla', 'Charlie':'Golf', 'Debbie':'107'}\n",
    "Auto_da_escludere='Multipla'\n",
    "for Proprietario, Auto in d.items():\n",
    "    if Auto != Auto_da_escludere:\n",
    "        print (f\"{Proprietario},{Auto}\")"
   ]
  },
  {
   "cell_type": "code",
   "execution_count": 35,
   "id": "b39fab58-2415-4d9b-971a-da04960d05ac",
   "metadata": {},
   "outputs": [],
   "source": [
    "#Abbiamo 2 dizionari ... aggiornare il vecchio con quello nuovo...#"
   ]
  },
  {
   "cell_type": "code",
   "execution_count": 36,
   "id": "f4897021-c2d4-46c4-b2a3-66601a159dec",
   "metadata": {},
   "outputs": [],
   "source": [
    "d={'Ada':'Punto','Ben':'Multipla', 'Charlie':'Golf', 'Debbie':'107'}\n",
    "d2={'Ben':'Polo','Fred':'Octavia', 'Grace':'Yaris', 'Hugh':'Clio'}"
   ]
  },
  {
   "cell_type": "code",
   "execution_count": 37,
   "id": "96e4896a-6cf6-4ea3-b165-386dca56b425",
   "metadata": {},
   "outputs": [],
   "source": [
    "d.update(d2)"
   ]
  },
  {
   "cell_type": "code",
   "execution_count": 38,
   "id": "77adc947-8930-4e44-afbc-ebbaed63082e",
   "metadata": {},
   "outputs": [
    {
     "name": "stdout",
     "output_type": "stream",
     "text": [
      "Ada:Punto\n",
      "Ben:Polo\n",
      "Charlie:Golf\n",
      "Debbie:107\n",
      "Fred:Octavia\n",
      "Grace:Yaris\n",
      "Hugh:Clio\n"
     ]
    }
   ],
   "source": [
    "for Proprietario, Auto in d.items():\n",
    "    print(f\"{Proprietario}:{Auto}\")"
   ]
  },
  {
   "cell_type": "code",
   "execution_count": 39,
   "id": "7cf46071-db86-43b8-8adb-c9b973fc0828",
   "metadata": {},
   "outputs": [],
   "source": [
    "#Scrivere un programma che, data una lista di numeri, fornisca in output il minimo e il massimo (possiamo usare o meno#\n",
    "#le funzioni built-in min() e max()). "
   ]
  },
  {
   "cell_type": "code",
   "execution_count": 51,
   "id": "2c63aecb-64a2-45b1-8eaf-c58090edb356",
   "metadata": {},
   "outputs": [],
   "source": [
    "lista_numeri=[123,45,65,345,234,564,723,45,3,46,27]"
   ]
  },
  {
   "cell_type": "code",
   "execution_count": 52,
   "id": "5eff3eb0-e104-42f1-86a9-346fe483dc84",
   "metadata": {},
   "outputs": [],
   "source": [
    "minimo=min(lista_numeri)"
   ]
  },
  {
   "cell_type": "code",
   "execution_count": 53,
   "id": "536c9774-47a8-41fe-ba69-b4f8e8a0cffb",
   "metadata": {},
   "outputs": [],
   "source": [
    "massimo=max(lista_numeri)"
   ]
  },
  {
   "cell_type": "code",
   "execution_count": 54,
   "id": "a95acc64-56a8-4472-afab-061b5423c4f4",
   "metadata": {},
   "outputs": [
    {
     "name": "stdout",
     "output_type": "stream",
     "text": [
      "Il minimo numero della lista è : 3\n"
     ]
    }
   ],
   "source": [
    "lista_numeri.sort()\n",
    "print(f\"Il minimo numero della lista è : {lista_numeri[0]}\")"
   ]
  },
  {
   "cell_type": "code",
   "execution_count": 55,
   "id": "0a121074-3239-4d55-835f-c71336fd949f",
   "metadata": {},
   "outputs": [
    {
     "name": "stdout",
     "output_type": "stream",
     "text": [
      "Il massimo numero della lista è : 723\n"
     ]
    }
   ],
   "source": [
    "lista_numeri.sort()\n",
    "print(f\"Il massimo numero della lista è : {lista_numeri[-1]}\")"
   ]
  },
  {
   "cell_type": "code",
   "execution_count": 46,
   "id": "0d714288-fa10-426a-9701-5e0301bdfea2",
   "metadata": {},
   "outputs": [],
   "source": [
    "#Scrivere un programma che, data una lista di numeri, fornisca in output i tre numeri più grandi; gestire il caso#\n",
    "#in cui la lista sia più corta di tre, e quando uno o più dei numeri selezionati sono uguali#"
   ]
  },
  {
   "cell_type": "code",
   "execution_count": 72,
   "id": "676a4235-957d-495a-a0cd-4d94f60bb91f",
   "metadata": {},
   "outputs": [
    {
     "name": "stdout",
     "output_type": "stream",
     "text": [
      "La lista contiene più di 3 numeri ed elementi uguali, [94, 94, 85]\n"
     ]
    }
   ],
   "source": [
    "Numeri_Lista=[34,53,23,94,85,94,33]\n",
    "Numeri_Lista.sort(reverse=True)\n",
    "if len(Numeri_Lista)<3:\n",
    "        print(f\"La lista contiene meno di 3 numeri, {Numeri_Lista[0:]}\")\n",
    "elif Numeri_Lista[0]==Numeri_Lista[1] or Numeri_Lista[1]==Numeri_Lista[2] or Numeri_Lista[0]==Numeri_Lista[2]:\n",
    "        print(f\"La lista contiene più di 3 numeri ed elementi uguali, {Numeri_Lista[0:3]}\")\n",
    "else:\n",
    "        print(f\"La lista contiene più di 3 numeri, {Numeri_Lista[0:3]}\")"
   ]
  },
  {
   "cell_type": "code",
   "execution_count": null,
   "id": "0c3820d1-3a20-4928-968b-ffed6eeecc77",
   "metadata": {},
   "outputs": [],
   "source": [
    "#Scrivere un programma che °\n",
    "# - in input acquisisce una lista di numeri e un numero K#\n",
    "# - in ouput, dovrà restituire la media di tutti i numeri nella lista maggiori o uguali a K#"
   ]
  },
  {
   "cell_type": "code",
   "execution_count": 7,
   "id": "fb51f70c-e3b9-475a-bd4e-c95d59060708",
   "metadata": {},
   "outputs": [
    {
     "name": "stdin",
     "output_type": "stream",
     "text": [
      "Inserisci una lista di numeri separata da spazi : 13 25 27\n",
      "Inserisci il valore K : 44\n"
     ]
    },
    {
     "name": "stdout",
     "output_type": "stream",
     "text": [
      "la lista è vuota\n"
     ]
    }
   ],
   "source": [
    "input_lista=input('Inserisci una lista di numeri separata da spazi :')\n",
    "K=int(input('Inserisci il valore K :'))\n",
    "lista_num=[int(x) for x in input_lista.split()]\n",
    "somma = []\n",
    "for x in lista_num :\n",
    "    if x>=K :\n",
    "        somma.append(x)\n",
    "if not somma :\n",
    "    print('la lista è vuota')\n",
    "else :\n",
    "    print(f\"la media è : {sum(somma)/len(somma)}\")"
   ]
  },
  {
   "cell_type": "code",
   "execution_count": null,
   "id": "1c145236-403f-4484-8053-aeaca2402c93",
   "metadata": {},
   "outputs": [],
   "source": [
    "#Scrivere un programma che, data una lista di numeri, come output stamperà lo stesso numero di * su righe diverse#\n",
    "#ottenendo una semplice visualizzazione grafica#"
   ]
  },
  {
   "cell_type": "code",
   "execution_count": 9,
   "id": "3b0ef35f-2d09-4906-b841-f4f62686b419",
   "metadata": {},
   "outputs": [
    {
     "name": "stdin",
     "output_type": "stream",
     "text": [
      "Inserisci una lista di numeri separata da spazi : 2 4 6\n"
     ]
    },
    {
     "name": "stdout",
     "output_type": "stream",
     "text": [
      "**\n",
      "****\n",
      "******\n"
     ]
    }
   ],
   "source": [
    "input_lista=input('Inserisci una lista di numeri separata da spazi :')\n",
    "caratteri_num=[int(x) for x in input_lista.split()]\n",
    "for x in caratteri_num:\n",
    "    print(x*\"*\")"
   ]
  },
  {
   "cell_type": "code",
   "execution_count": null,
   "id": "2e265b1d-42b5-46f8-b5da-dd76005aafbb",
   "metadata": {},
   "outputs": [],
   "source": [
    "#Abbiamo una lista di codici fiscali : #\n",
    "# - trovare i codici fiscali che contengono \"95\", metterli in una lista, e alla fine stamparla;#\n",
    "# - inoltre, per ognuno di essi, stampare a video i caratteri relativi al nome e quelli relativi al cognome#"
   ]
  },
  {
   "cell_type": "code",
   "execution_count": 41,
   "id": "41b3fa08-560b-4be8-a31c-9c9a0353c1ee",
   "metadata": {},
   "outputs": [
    {
     "name": "stdout",
     "output_type": "stream",
     "text": [
      "I codici fiscali con il numero 95 sono: \n",
      " ['ABCDEF95G01A123B', 'STUVWX95Z04A654E', 'DEFGHI95J06A987G'] \n",
      "   ABCDEF              STUVWX              DEFGHI           "
     ]
    }
   ],
   "source": [
    "lista_cf=['ABCDEF95G01A123B', 'GHIJKL91M02A321C', 'MNOPQR89S03A456D', 'STUVWX95Z04A654E', 'XYZABC01D05A789D', 'DEFGHI95J06A987G']\n",
    "presente = False\n",
    "cf_95 = []\n",
    "for cf in lista_cf:\n",
    "        if \"95\" in cf:\n",
    "            presente = True\n",
    "            cf_95.append(cf)\n",
    "print(f\"I codici fiscali con il numero 95 sono: \\n {cf_95} \")\n",
    "for cf2 in cf_95:\n",
    "    print('  ', cf2[0:6], '         ', end=\" \")"
   ]
  },
  {
   "cell_type": "code",
   "execution_count": null,
   "id": "b5182c59-f902-4072-9b64-077e0176e5e3",
   "metadata": {},
   "outputs": [],
   "source": [
    "#Abbiamo tre liste della stessa lunghezza, dove ogni elemento nella medesima posizione si riferisce ai dati dello stesso#\n",
    "#studente:#\n",
    "# - Stampare a video tutti e soli gli studenti che frequentano una prima edizione; non tutti i dati potrebbero essere nec..#"
   ]
  },
  {
   "cell_type": "code",
   "execution_count": 83,
   "id": "82a4145a-444b-4946-b93e-faea1c8f93b3",
   "metadata": {},
   "outputs": [
    {
     "name": "stdout",
     "output_type": "stream",
     "text": [
      " Studente: Alex, Corso: Cybersecurity, Edizione: 1\n",
      " Studente: Faith, Corso: Backend, Edizione: 1\n"
     ]
    }
   ],
   "source": [
    "studenti=['Alex', 'Bob', 'Cindy', 'Dan', 'Emma', 'Faith', 'Grace', 'Henry']\n",
    "corsi=['Cybersecurity', 'Data Analyst', 'Backend', 'Frontend', 'Data Analyst', 'Backend', 'Frontend', 'Cybersecurity']\n",
    "edizioni=[1,2,3,2,2,1,3,3]\n",
    "for studente, corso, edizione in zip(studenti, corsi, edizioni):\n",
    "        if edizione == 1:\n",
    "            print(f\" Studente: {studente}, Corso: {corso}, Edizione: {edizione}\")"
   ]
  },
  {
   "cell_type": "code",
   "execution_count": null,
   "id": "f3824c75-ca82-4415-b917-8d695ff739b1",
   "metadata": {},
   "outputs": [],
   "source": [
    "#Abbiamo una lista di stringhe di prezzi in $, che erroneamente sono stati scritti in €:#\n",
    "# Cambiare il simbolo dell'euro in quello del dollaro per ogni stringa nella lista; il risultato sarà memorizzato in#\n",
    "#un'altra lista#"
   ]
  },
  {
   "cell_type": "code",
   "execution_count": 48,
   "id": "6f5b40fd-5bd4-44b4-9ca2-e4ff2b8c8560",
   "metadata": {},
   "outputs": [
    {
     "name": "stdout",
     "output_type": "stream",
     "text": [
      "['100 $', '200 $', '500 $', '10 $', '50 $', '70 $']\n"
     ]
    }
   ],
   "source": [
    "prezzi =['100 €', '200 €', '500 €', '10 €', '50 €', '70 €']\n",
    "verifica= False\n",
    "prezzi_in_dollaro=[]\n",
    "for prezzo in prezzi:\n",
    "        if \"€\" in prezzo:\n",
    "            verifica = True\n",
    "            prezzo_mod=prezzo.replace('€','$',1)\n",
    "            prezzi_in_dollaro.append(prezzo_mod)\n",
    "print(prezzi_in_dollaro)"
   ]
  },
  {
   "cell_type": "code",
   "execution_count": null,
   "id": "49ed8454-aae9-47b5-845f-60db17abaad1",
   "metadata": {},
   "outputs": [],
   "source": [
    "#Abbiamo una lista di studenti ... Vogliamo dividere gli studenti in 2 squadre per un campionato di Uno nel modo #\n",
    "# seguente : selezioneremo i nomi in posizione paeri per una squadra, e i nomi in posizione dispari per l'altra#\n",
    "#Creiamo 2 liste per ogni squadra, e alla fine visualizzamole#"
   ]
  },
  {
   "cell_type": "code",
   "execution_count": 53,
   "id": "04dc6917-19e9-45f6-b74e-47c7acb06b07",
   "metadata": {},
   "outputs": [
    {
     "name": "stdout",
     "output_type": "stream",
     "text": [
      "La Squadra Pari è formata da: ['Bob', 'Dan', 'Faith', 'Henry', 'John']\n",
      "La Squadra Dispari è formata da: ['Alex', 'Cindy', 'Emma', 'Grace', 'Isabelle']\n"
     ]
    }
   ],
   "source": [
    "lista_studenti=['Alex', 'Bob', 'Cindy', 'Dan', 'Emma', 'Faith', 'Grace', 'Henry', 'Isabelle', 'John']\n",
    "Squadra1=lista_studenti[1:10:2]\n",
    "Squadra2=lista_studenti[0:10:2]\n",
    "print(f\"La Squadra Pari è formata da: {Squadra1}\")\n",
    "print(f\"La Squadra Dispari è formata da: {Squadra2}\")"
   ]
  },
  {
   "cell_type": "code",
   "execution_count": null,
   "id": "9f8371a2-f61c-4c6e-934a-d786ef886e8c",
   "metadata": {},
   "outputs": [],
   "source": [
    "#Abbiamo una lista con i guadagni degli ultimi 12 mesi (supponiamo da Gennaio a Dicembre):#\n",
    "#Dobbiamo confrontare, stampando tutto a video, il guadagno di ogni mese con la media dei guadagni precedenti#"
   ]
  },
  {
   "cell_type": "code",
   "execution_count": 72,
   "id": "b8a32b00-707c-4902-a98d-67ae887aa2ee",
   "metadata": {},
   "outputs": [
    {
     "name": "stdout",
     "output_type": "stream",
     "text": [
      " Il guadagno del 1° mese è 100 ed è minore o uguale alla media di 100.0\n",
      " Il guadagno del 2° mese è 90 ed è minore o uguale alla media di 95.0\n",
      " Il guadagno del 3° mese è 70 ed è minore o uguale alla media di 86.66666666666667\n",
      " Il guadagno del 4° mese è 40 ed è minore o uguale alla media di 75.0\n",
      " Il guadagno del 5° mese è 50 ed è minore o uguale alla media di 70.0\n",
      " Il guadagno del 6° mese è 80 ed è maggiore alla media di 71.66666666666667\n",
      " Il guadagno del 7° mese è 90 ed è maggiore alla media di 74.28571428571429\n",
      " Il guadagno del 8° mese è 120 ed è maggiore alla media di 80.0\n",
      " Il guadagno del 9° mese è 80 ed è minore o uguale alla media di 80.0\n",
      " Il guadagno del 10° mese è 20 ed è minore o uguale alla media di 74.0\n",
      " Il guadagno del 11° mese è 50 ed è minore o uguale alla media di 71.81818181818181\n",
      " Il guadagno del 12° mese è 50 ed è minore o uguale alla media di 70.0\n"
     ]
    }
   ],
   "source": [
    "guadagni=[100, 90, 70, 40, 50, 80, 90, 120, 80, 20, 50, 50]\n",
    "mesi= 1\n",
    "somma_ricavi=[]\n",
    "for guadagno in guadagni:\n",
    "    somma_ricavi.append(guadagno)\n",
    "    media=int(sum(somma_ricavi))/mesi\n",
    "    if media>=guadagno:\n",
    "        print(f\" Il guadagno del {mesi}° mese è {guadagno} ed è minore o uguale alla media di {media}\")\n",
    "        mesi+=1\n",
    "    else :\n",
    "        print(f\" Il guadagno del {mesi}° mese è {guadagno} ed è maggiore alla media di {media}\")\n",
    "        mesi+=1"
   ]
  },
  {
   "cell_type": "code",
   "execution_count": null,
   "id": "c117f3ce-e3a2-4cf3-a6c1-002afbdc2728",
   "metadata": {},
   "outputs": [],
   "source": []
  }
 ],
 "metadata": {
  "kernelspec": {
   "display_name": "Python 3 (ipykernel)",
   "language": "python",
   "name": "python3"
  },
  "language_info": {
   "codemirror_mode": {
    "name": "ipython",
    "version": 3
   },
   "file_extension": ".py",
   "mimetype": "text/x-python",
   "name": "python",
   "nbconvert_exporter": "python",
   "pygments_lexer": "ipython3",
   "version": "3.12.7"
  }
 },
 "nbformat": 4,
 "nbformat_minor": 5
}
