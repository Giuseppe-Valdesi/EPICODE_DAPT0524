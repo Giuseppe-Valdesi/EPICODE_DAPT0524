{
 "cells": [
  {
   "cell_type": "code",
   "execution_count": null,
   "id": "7ed3d615-4c0d-4431-992d-f831ba991e30",
   "metadata": {},
   "outputs": [],
   "source": [
    "# Abbiamo una lista di liste#"
   ]
  },
  {
   "cell_type": "code",
   "execution_count": 3,
   "id": "2bf25acd-0e53-4401-aecc-cef9c5d7f415",
   "metadata": {},
   "outputs": [],
   "source": [
    "mat = [[0,1,2,3,4] , [5,6,7,8,9], [10,11,12,13,14]]\n",
    "\n",
    "import numpy\n",
    "#che tipo di struttura dati o matematica potrebbe rappresentare? #\n",
    "#è una matrice ...#"
   ]
  },
  {
   "cell_type": "code",
   "execution_count": 5,
   "id": "5a5acc0f-1249-4f61-97c3-ea1b2f2c4e36",
   "metadata": {},
   "outputs": [
    {
     "data": {
      "text/plain": [
       "[[0, 1, 2, 3, 4], [5, 6, 7, 8, 9], [10, 11, 12, 13, 14]]"
      ]
     },
     "execution_count": 5,
     "metadata": {},
     "output_type": "execute_result"
    }
   ],
   "source": [
    "mat"
   ]
  },
  {
   "cell_type": "code",
   "execution_count": 9,
   "id": "d7a18ca4-d97a-4f94-a234-45ad912d9454",
   "metadata": {},
   "outputs": [
    {
     "data": {
      "text/plain": [
       "7"
      ]
     },
     "execution_count": 9,
     "metadata": {},
     "output_type": "execute_result"
    }
   ],
   "source": [
    "elem=mat[1][2] #creo una variabile dove indico nella prima [..] la posizione della lista e nella seconda [] la posizione #\n",
    "elem           #dell'elemento #"
   ]
  },
  {
   "cell_type": "code",
   "execution_count": 4,
   "id": "a68ece88-848c-49bf-b18d-6154c483e2e8",
   "metadata": {},
   "outputs": [],
   "source": [
    "#Importiamo il modulo math e proviamo a usare le funzioni #\n",
    "# sin()\n",
    "# cos()\n",
    "# factorial()"
   ]
  },
  {
   "cell_type": "code",
   "execution_count": 13,
   "id": "5e56fb4e-ca3f-4b15-bfe0-176ff63fc3f8",
   "metadata": {},
   "outputs": [],
   "source": [
    "import math"
   ]
  },
  {
   "cell_type": "code",
   "execution_count": 14,
   "id": "d0b47ebf-5935-4458-8802-f6f53c11a1c4",
   "metadata": {},
   "outputs": [
    {
     "data": {
      "text/plain": [
       "-0.3048106211022167"
      ]
     },
     "execution_count": 14,
     "metadata": {},
     "output_type": "execute_result"
    }
   ],
   "source": [
    "math.sin (60)"
   ]
  },
  {
   "cell_type": "code",
   "execution_count": 15,
   "id": "d2bda8dd-da8f-4f67-b16b-8c46325d4ad6",
   "metadata": {},
   "outputs": [
    {
     "data": {
      "text/plain": [
       "-0.21513470736462095"
      ]
     },
     "execution_count": 15,
     "metadata": {},
     "output_type": "execute_result"
    }
   ],
   "source": [
    "math.cos(184)"
   ]
  },
  {
   "cell_type": "code",
   "execution_count": 10,
   "id": "19bbaf1f-31fe-4b7a-bbeb-d7ded58d410b",
   "metadata": {},
   "outputs": [
    {
     "data": {
      "text/plain": [
       "120"
      ]
     },
     "execution_count": 10,
     "metadata": {},
     "output_type": "execute_result"
    }
   ],
   "source": [
    "math.factorial(5) #5*4*3*2*1#"
   ]
  },
  {
   "cell_type": "code",
   "execution_count": 17,
   "id": "0791741e-a50a-48a0-a193-5dd58f218d5b",
   "metadata": {},
   "outputs": [
    {
     "data": {
      "text/plain": [
       "3.141592653589793"
      ]
     },
     "execution_count": 17,
     "metadata": {},
     "output_type": "execute_result"
    }
   ],
   "source": [
    "math.pi  # pi è il pi greco =3.14....# "
   ]
  },
  {
   "cell_type": "code",
   "execution_count": 16,
   "id": "511029f7-7e5a-49dd-9a18-4885e031e0c1",
   "metadata": {},
   "outputs": [
    {
     "data": {
      "text/plain": [
       "180.0"
      ]
     },
     "execution_count": 16,
     "metadata": {},
     "output_type": "execute_result"
    }
   ],
   "source": [
    "math.degrees(math.pi) # il metodo degrees ==>  gradi=angolo(radianti) * 180/ pigreco\n",
    "                      # essendo pi greco la misura in radianti dell'angolo il risultato è 180"
   ]
  },
  {
   "cell_type": "code",
   "execution_count": 22,
   "id": "aedb3f1a-14d7-4c1d-ab6c-73efcb0ab988",
   "metadata": {},
   "outputs": [
    {
     "data": {
      "text/plain": [
       "240.64227395494578"
      ]
     },
     "execution_count": 22,
     "metadata": {},
     "output_type": "execute_result"
    }
   ],
   "source": [
    "math.degrees(4.2)"
   ]
  },
  {
   "cell_type": "code",
   "execution_count": null,
   "id": "12d9b115-4088-4c21-8135-f034b5266d9b",
   "metadata": {},
   "outputs": [],
   "source": [
    "#L'azienda Object Spa ha creato una lista di quanti oggetti ha venduto ogni mese nell'ultimo anno : #"
   ]
  },
  {
   "cell_type": "code",
   "execution_count": 2,
   "id": "f1f3b1d3-4a0e-483e-a3e1-f68e5643dd79",
   "metadata": {},
   "outputs": [],
   "source": [
    "lst = [2000, 5500, 7200, 4320, 1280, 1900, 2500, 3900, 6410, 8150, 7100, 5350]"
   ]
  },
  {
   "cell_type": "code",
   "execution_count": 3,
   "id": "15e51d92-7ad0-4b27-a76b-051479344f40",
   "metadata": {},
   "outputs": [],
   "source": [
    "import numpy\n",
    "lst_npy= numpy.array(lst)"
   ]
  },
  {
   "cell_type": "code",
   "execution_count": 4,
   "id": "e615347d-898b-475c-b343-fafc38783a48",
   "metadata": {},
   "outputs": [
    {
     "data": {
      "text/plain": [
       "array([2000, 5500, 7200, 4320, 1280, 1900, 2500, 3900, 6410, 8150, 7100,\n",
       "       5350])"
      ]
     },
     "execution_count": 4,
     "metadata": {},
     "output_type": "execute_result"
    }
   ],
   "source": [
    "lst_npy"
   ]
  },
  {
   "cell_type": "code",
   "execution_count": 8,
   "id": "6435633b-abbc-49f8-a46a-c4e434b6d9a7",
   "metadata": {},
   "outputs": [
    {
     "name": "stdout",
     "output_type": "stream",
     "text": [
      "La vendita maggiore è stata di : 8150\n"
     ]
    }
   ],
   "source": [
    "a=lst_npy.max()\n",
    "print(f'La vendita maggiore è stata di : {a}')"
   ]
  },
  {
   "cell_type": "code",
   "execution_count": 10,
   "id": "e04267f0-eaa1-4aac-afc2-cac2e2817c4f",
   "metadata": {},
   "outputs": [
    {
     "name": "stdout",
     "output_type": "stream",
     "text": [
      "La vendita minore è stata di : 1280\n"
     ]
    }
   ],
   "source": [
    "b=lst_npy.min()\n",
    "print(f'La vendita minore è stata di : {b}')"
   ]
  },
  {
   "cell_type": "code",
   "execution_count": 18,
   "id": "e85de0fa-29f9-4dd6-9798-07bc73491f8d",
   "metadata": {},
   "outputs": [
    {
     "data": {
      "text/plain": [
       "array([5500, 7200, 6410, 8150, 7100, 5350])"
      ]
     },
     "execution_count": 18,
     "metadata": {},
     "output_type": "execute_result"
    }
   ],
   "source": [
    "c=lst_npy>4999 #Quali sono state le vendite maggiori a 4999 oggetti#\n",
    "lst_npy[c]"
   ]
  },
  {
   "cell_type": "code",
   "execution_count": 25,
   "id": "d83722f5-ac02-4d90-8cea-22828146c95e",
   "metadata": {},
   "outputs": [
    {
     "data": {
      "text/plain": [
       "6"
      ]
     },
     "execution_count": 25,
     "metadata": {},
     "output_type": "execute_result"
    }
   ],
   "source": [
    "c.sum()  #somma i singoli valori boleani restituendo il numero dei boleani e quindi il totale dei valori superiori a 4999#"
   ]
  },
  {
   "cell_type": "code",
   "execution_count": 26,
   "id": "e71ff3f1-8d59-4697-94f2-8962cc936a78",
   "metadata": {},
   "outputs": [
    {
     "data": {
      "text/plain": [
       "array([2000, 1280, 1900, 2500])"
      ]
     },
     "execution_count": 26,
     "metadata": {},
     "output_type": "execute_result"
    }
   ],
   "source": [
    "d=lst_npy<3000 #Quali sono state le vendite minori a 3000 oggetti#\n",
    "lst_npy[d]"
   ]
  },
  {
   "cell_type": "code",
   "execution_count": 27,
   "id": "907c6396-378a-4759-8f7b-f49e4fcc805f",
   "metadata": {},
   "outputs": [
    {
     "data": {
      "text/plain": [
       "4"
      ]
     },
     "execution_count": 27,
     "metadata": {},
     "output_type": "execute_result"
    }
   ],
   "source": [
    "d.sum()"
   ]
  },
  {
   "cell_type": "code",
   "execution_count": 32,
   "id": "ae904e89-7595-420f-be7d-b3006c46ff69",
   "metadata": {},
   "outputs": [
    {
     "name": "stdout",
     "output_type": "stream",
     "text": [
      "La Media del numero di oggetti venduti al mese è : 5561.0\n"
     ]
    }
   ],
   "source": [
    "x=lst_npy.sum()/(c+d).sum()\n",
    "print(f'La Media del numero di oggetti venduti al mese è : {x}') "
   ]
  },
  {
   "cell_type": "code",
   "execution_count": null,
   "id": "564cc60c-de61-469f-a0d6-b820f8050e1e",
   "metadata": {},
   "outputs": [],
   "source": [
    "#Consideriamo il seguente dizionario ... #"
   ]
  },
  {
   "cell_type": "code",
   "execution_count": 38,
   "id": "1205875e-a33a-4e07-a18a-c908706f954e",
   "metadata": {},
   "outputs": [],
   "source": [
    "import pandas as pd\n",
    "fatturati_dict = {1997 : 12_000, 1998 : 15_000,\n",
    "                  1999 : 20_000, 2000 : 23_000,\n",
    "                  2001 : 25_000, 2022 : 17_000,\n",
    "                  2003 : 14_000, 2004 : 21_000}"
   ]
  },
  {
   "cell_type": "code",
   "execution_count": 39,
   "id": "b45c178b-6c25-44dd-b0f8-ac30f7d9aa53",
   "metadata": {},
   "outputs": [],
   "source": [
    "#Consideriamo la seguenteSeries ... :#"
   ]
  },
  {
   "cell_type": "code",
   "execution_count": 40,
   "id": "2c931ce9-6efa-446d-93ee-5eb37e4690b1",
   "metadata": {},
   "outputs": [],
   "source": [
    "fatturati_series = pd.Series([12_000, 15_000, 20_000, 23_000, 25_000, 17_000, 14_000, 21_000],\n",
    "                             index=range(1997,2005))"
   ]
  },
  {
   "cell_type": "code",
   "execution_count": 41,
   "id": "c7958761-9a82-4bc6-90a5-7f0ed6b417b3",
   "metadata": {},
   "outputs": [
    {
     "data": {
      "text/plain": [
       "{1997: 12000,\n",
       " 1998: 15000,\n",
       " 1999: 20000,\n",
       " 2000: 23000,\n",
       " 2001: 25000,\n",
       " 2022: 17000,\n",
       " 2003: 14000,\n",
       " 2004: 21000}"
      ]
     },
     "execution_count": 41,
     "metadata": {},
     "output_type": "execute_result"
    }
   ],
   "source": [
    "fatturati_dict"
   ]
  },
  {
   "cell_type": "code",
   "execution_count": 42,
   "id": "ca371b9d-50e2-47fe-bd94-29dea4b6b13f",
   "metadata": {},
   "outputs": [
    {
     "data": {
      "text/plain": [
       "1997    12000\n",
       "1998    15000\n",
       "1999    20000\n",
       "2000    23000\n",
       "2001    25000\n",
       "2002    17000\n",
       "2003    14000\n",
       "2004    21000\n",
       "dtype: int64"
      ]
     },
     "execution_count": 42,
     "metadata": {},
     "output_type": "execute_result"
    }
   ],
   "source": [
    "fatturati_series"
   ]
  },
  {
   "cell_type": "code",
   "execution_count": null,
   "id": "8e9450aa-269a-44f5-ba0c-f4043588d9c8",
   "metadata": {},
   "outputs": [],
   "source": [
    "fatturati_dict"
   ]
  },
  {
   "cell_type": "code",
   "execution_count": 44,
   "id": "1575b81a-4aae-4850-b30a-2baadccaeca6",
   "metadata": {},
   "outputs": [
    {
     "data": {
      "text/plain": [
       "12000"
      ]
     },
     "execution_count": 44,
     "metadata": {},
     "output_type": "execute_result"
    }
   ],
   "source": [
    "fatturati_series.get(1997) #Per il dizionario devo utilizzare l'attributo get e specificare la chiave...#"
   ]
  },
  {
   "cell_type": "code",
   "execution_count": 46,
   "id": "26ec6fb0-3221-4c5a-a0c7-2b55f2d46c9b",
   "metadata": {},
   "outputs": [
    {
     "data": {
      "text/plain": [
       "12000"
      ]
     },
     "execution_count": 46,
     "metadata": {},
     "output_type": "execute_result"
    }
   ],
   "source": [
    "fatturati_series[1997] #Per le Series basta indicare l'etichetta della Series per avere il corrispondente valore#"
   ]
  },
  {
   "cell_type": "code",
   "execution_count": 49,
   "id": "b1f1d8e0-36c2-45e5-a73a-e7348fbf4d2f",
   "metadata": {},
   "outputs": [
    {
     "name": "stdout",
     "output_type": "stream",
     "text": [
      "1997    12005\n",
      "1998    15005\n",
      "1999    20005\n",
      "2000    23005\n",
      "2001    25005\n",
      "2002    17005\n",
      "2003    14005\n",
      "2004    21005\n",
      "dtype: int64\n"
     ]
    }
   ],
   "source": [
    "print (fatturati_series + 5) #Posso fare operazioni in modo vettoriale grazie al Masking ...#"
   ]
  },
  {
   "cell_type": "code",
   "execution_count": null,
   "id": "ea360a04-378f-427f-abef-dc89efb83339",
   "metadata": {},
   "outputs": [],
   "source": [
    "# L'azienda Object Spa ha un dataset con tutti gli stipendi dei dipendenti memorizzato in un ndarray :#"
   ]
  },
  {
   "cell_type": "code",
   "execution_count": 50,
   "id": "342d0673-95ac-479b-83ec-ae8af61b5f03",
   "metadata": {},
   "outputs": [],
   "source": [
    "import numpy as np"
   ]
  },
  {
   "cell_type": "code",
   "execution_count": 51,
   "id": "ceb2056d-8fe5-436e-92f0-dcf7770526d2",
   "metadata": {},
   "outputs": [],
   "source": [
    "stipendi = np.array([100,200,300,400,500,600,700,800,900,1000])"
   ]
  },
  {
   "cell_type": "code",
   "execution_count": 55,
   "id": "39e7f5ca-9e7e-4f39-a610-b4818a554700",
   "metadata": {},
   "outputs": [
    {
     "name": "stdout",
     "output_type": "stream",
     "text": [
      " Gli stipendi raddoppiati sono : [200, 400, 600, 800, 1000, 1200, 1400, 1600, 1800, 2000]\n"
     ]
    }
   ],
   "source": [
    "stipendio=0\n",
    "stip_radd=[]\n",
    "for x in stipendi:\n",
    "    y=x*2\n",
    "    stip_radd.append(y)\n",
    "print(f' Gli stipendi raddoppiati sono : {stip_radd}')\n",
    "    "
   ]
  },
  {
   "cell_type": "code",
   "execution_count": 56,
   "id": "17910f19-7162-40e9-87a7-70512d89488c",
   "metadata": {},
   "outputs": [
    {
     "data": {
      "text/plain": [
       "array([ 200,  400,  600,  800, 1000, 1200, 1400, 1600, 1800, 2000])"
      ]
     },
     "execution_count": 56,
     "metadata": {},
     "output_type": "execute_result"
    }
   ],
   "source": [
    "stip_radd2=stipendi*2\n",
    "stip_radd2"
   ]
  },
  {
   "cell_type": "code",
   "execution_count": null,
   "id": "a055378e-c0b6-4157-87eb-229f59ddb4df",
   "metadata": {},
   "outputs": [],
   "source": []
  }
 ],
 "metadata": {
  "kernelspec": {
   "display_name": "Python 3 (ipykernel)",
   "language": "python",
   "name": "python3"
  },
  "language_info": {
   "codemirror_mode": {
    "name": "ipython",
    "version": 3
   },
   "file_extension": ".py",
   "mimetype": "text/x-python",
   "name": "python",
   "nbconvert_exporter": "python",
   "pygments_lexer": "ipython3",
   "version": "3.12.7"
  }
 },
 "nbformat": 4,
 "nbformat_minor": 5
}
